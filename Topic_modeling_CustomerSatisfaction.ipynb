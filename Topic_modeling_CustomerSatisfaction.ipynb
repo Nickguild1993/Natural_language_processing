{
  "nbformat": 4,
  "nbformat_minor": 0,
  "metadata": {
    "colab": {
      "provenance": [],
      "authorship_tag": "ABX9TyPAeWmlQ1jkROzr1MulVx2a",
      "include_colab_link": true
    },
    "kernelspec": {
      "name": "python3",
      "display_name": "Python 3"
    },
    "language_info": {
      "name": "python"
    }
  },
  "cells": [
    {
      "cell_type": "markdown",
      "metadata": {
        "id": "view-in-github",
        "colab_type": "text"
      },
      "source": [
        "<a href=\"https://colab.research.google.com/github/Nickguild1993/Natural_language_processing/blob/main/Topic_modeling_CustomerSatisfaction.ipynb\" target=\"_parent\"><img src=\"https://colab.research.google.com/assets/colab-badge.svg\" alt=\"Open In Colab\"/></a>"
      ]
    },
    {
      "cell_type": "markdown",
      "source": [
        "Warren,\n",
        "\n",
        "I've used this workflow for two different projects and it's been pretty plug and play.  You'd change the data source (I connect to my gdrive but you can load in local files as well).\n",
        "\n",
        "I find this fascinating, so if there's anything you want to go over please let me know!\n",
        "\n",
        "Best,\n",
        "\n",
        "Nick"
      ],
      "metadata": {
        "id": "DRBZ_MRd5Pds"
      }
    },
    {
      "cell_type": "markdown",
      "source": [
        "Clustering open responses into topic groups using hugging face/pytorch"
      ],
      "metadata": {
        "id": "HRHjqxLrE7fW"
      }
    },
    {
      "cell_type": "markdown",
      "source": [
        "Pip install the below two cells (should already be installed but you never know bestie)"
      ],
      "metadata": {
        "id": "iUoAV0ABIzQa"
      }
    },
    {
      "cell_type": "code",
      "source": [
        "import subprocess\n",
        "\n",
        "def install_method(method):\n",
        "  \"\"\"Installs a method and provides feedback.\n",
        "\n",
        "  Args:\n",
        "    method: The name of the method to install.\n",
        "\n",
        "  Returns:\n",
        "    None\n",
        "  \"\"\"\n",
        "\n",
        "  try:\n",
        "    subprocess.check_call(['pip', 'install', '!pip', method])\n",
        "    print(f\"{method} installed successfully.\")\n",
        "  except subprocess.CalledProcessError:\n",
        "    print(f\"{method} is already installed.\")"
      ],
      "metadata": {
        "id": "2UJEod3weYwc"
      },
      "execution_count": null,
      "outputs": []
    },
    {
      "cell_type": "code",
      "source": [
        "# skikit-learn and ML\n",
        "install_method(\"torch_transformers\")\n",
        "install_method(\"torch\")\n",
        "install_method('scikit_learn')"
      ],
      "metadata": {
        "collapsed": true,
        "id": "3yX1ZG00FP9X",
        "colab": {
          "base_uri": "https://localhost:8080/"
        },
        "outputId": "acc9d5a2-e0c8-4100-a10d-777b973940c7"
      },
      "execution_count": null,
      "outputs": [
        {
          "output_type": "stream",
          "name": "stdout",
          "text": [
            "torch_transformers is already installed.\n",
            "torch is already installed.\n",
            "scikit_learn is already installed.\n"
          ]
        }
      ]
    },
    {
      "cell_type": "code",
      "source": [
        "# # tensorflow packages (only need to !pip install once, then comment out)\n",
        "\n",
        "\n",
        "!pip install absl-py\n",
        "!pip install tensorflow\n",
        "!pip install tensorflow-hub"
      ],
      "metadata": {
        "collapsed": true,
        "id": "Q1xp6M_VG31y",
        "colab": {
          "base_uri": "https://localhost:8080/"
        },
        "outputId": "cbcf6aaf-92c4-456e-c1d5-9d6d0235ae77"
      },
      "execution_count": null,
      "outputs": [
        {
          "output_type": "stream",
          "name": "stdout",
          "text": [
            "Requirement already satisfied: absl-py in /usr/local/lib/python3.10/dist-packages (1.4.0)\n",
            "Requirement already satisfied: tensorflow in /usr/local/lib/python3.10/dist-packages (2.17.0)\n",
            "Requirement already satisfied: absl-py>=1.0.0 in /usr/local/lib/python3.10/dist-packages (from tensorflow) (1.4.0)\n",
            "Requirement already satisfied: astunparse>=1.6.0 in /usr/local/lib/python3.10/dist-packages (from tensorflow) (1.6.3)\n",
            "Requirement already satisfied: flatbuffers>=24.3.25 in /usr/local/lib/python3.10/dist-packages (from tensorflow) (24.3.25)\n",
            "Requirement already satisfied: gast!=0.5.0,!=0.5.1,!=0.5.2,>=0.2.1 in /usr/local/lib/python3.10/dist-packages (from tensorflow) (0.6.0)\n",
            "Requirement already satisfied: google-pasta>=0.1.1 in /usr/local/lib/python3.10/dist-packages (from tensorflow) (0.2.0)\n",
            "Requirement already satisfied: h5py>=3.10.0 in /usr/local/lib/python3.10/dist-packages (from tensorflow) (3.11.0)\n",
            "Requirement already satisfied: libclang>=13.0.0 in /usr/local/lib/python3.10/dist-packages (from tensorflow) (18.1.1)\n",
            "Requirement already satisfied: ml-dtypes<0.5.0,>=0.3.1 in /usr/local/lib/python3.10/dist-packages (from tensorflow) (0.4.1)\n",
            "Requirement already satisfied: opt-einsum>=2.3.2 in /usr/local/lib/python3.10/dist-packages (from tensorflow) (3.4.0)\n",
            "Requirement already satisfied: packaging in /usr/local/lib/python3.10/dist-packages (from tensorflow) (24.1)\n",
            "Requirement already satisfied: protobuf!=4.21.0,!=4.21.1,!=4.21.2,!=4.21.3,!=4.21.4,!=4.21.5,<5.0.0dev,>=3.20.3 in /usr/local/lib/python3.10/dist-packages (from tensorflow) (3.20.3)\n",
            "Requirement already satisfied: requests<3,>=2.21.0 in /usr/local/lib/python3.10/dist-packages (from tensorflow) (2.32.3)\n",
            "Requirement already satisfied: setuptools in /usr/local/lib/python3.10/dist-packages (from tensorflow) (75.1.0)\n",
            "Requirement already satisfied: six>=1.12.0 in /usr/local/lib/python3.10/dist-packages (from tensorflow) (1.16.0)\n",
            "Requirement already satisfied: termcolor>=1.1.0 in /usr/local/lib/python3.10/dist-packages (from tensorflow) (2.5.0)\n",
            "Requirement already satisfied: typing-extensions>=3.6.6 in /usr/local/lib/python3.10/dist-packages (from tensorflow) (4.12.2)\n",
            "Requirement already satisfied: wrapt>=1.11.0 in /usr/local/lib/python3.10/dist-packages (from tensorflow) (1.16.0)\n",
            "Requirement already satisfied: grpcio<2.0,>=1.24.3 in /usr/local/lib/python3.10/dist-packages (from tensorflow) (1.64.1)\n",
            "Requirement already satisfied: tensorboard<2.18,>=2.17 in /usr/local/lib/python3.10/dist-packages (from tensorflow) (2.17.0)\n",
            "Requirement already satisfied: keras>=3.2.0 in /usr/local/lib/python3.10/dist-packages (from tensorflow) (3.4.1)\n",
            "Requirement already satisfied: tensorflow-io-gcs-filesystem>=0.23.1 in /usr/local/lib/python3.10/dist-packages (from tensorflow) (0.37.1)\n",
            "Requirement already satisfied: numpy<2.0.0,>=1.23.5 in /usr/local/lib/python3.10/dist-packages (from tensorflow) (1.26.4)\n",
            "Requirement already satisfied: wheel<1.0,>=0.23.0 in /usr/local/lib/python3.10/dist-packages (from astunparse>=1.6.0->tensorflow) (0.44.0)\n",
            "Requirement already satisfied: rich in /usr/local/lib/python3.10/dist-packages (from keras>=3.2.0->tensorflow) (13.9.2)\n",
            "Requirement already satisfied: namex in /usr/local/lib/python3.10/dist-packages (from keras>=3.2.0->tensorflow) (0.0.8)\n",
            "Requirement already satisfied: optree in /usr/local/lib/python3.10/dist-packages (from keras>=3.2.0->tensorflow) (0.13.0)\n",
            "Requirement already satisfied: charset-normalizer<4,>=2 in /usr/local/lib/python3.10/dist-packages (from requests<3,>=2.21.0->tensorflow) (3.4.0)\n",
            "Requirement already satisfied: idna<4,>=2.5 in /usr/local/lib/python3.10/dist-packages (from requests<3,>=2.21.0->tensorflow) (3.10)\n",
            "Requirement already satisfied: urllib3<3,>=1.21.1 in /usr/local/lib/python3.10/dist-packages (from requests<3,>=2.21.0->tensorflow) (2.2.3)\n",
            "Requirement already satisfied: certifi>=2017.4.17 in /usr/local/lib/python3.10/dist-packages (from requests<3,>=2.21.0->tensorflow) (2024.8.30)\n",
            "Requirement already satisfied: markdown>=2.6.8 in /usr/local/lib/python3.10/dist-packages (from tensorboard<2.18,>=2.17->tensorflow) (3.7)\n",
            "Requirement already satisfied: tensorboard-data-server<0.8.0,>=0.7.0 in /usr/local/lib/python3.10/dist-packages (from tensorboard<2.18,>=2.17->tensorflow) (0.7.2)\n",
            "Requirement already satisfied: werkzeug>=1.0.1 in /usr/local/lib/python3.10/dist-packages (from tensorboard<2.18,>=2.17->tensorflow) (3.0.4)\n",
            "Requirement already satisfied: MarkupSafe>=2.1.1 in /usr/local/lib/python3.10/dist-packages (from werkzeug>=1.0.1->tensorboard<2.18,>=2.17->tensorflow) (3.0.1)\n",
            "Requirement already satisfied: markdown-it-py>=2.2.0 in /usr/local/lib/python3.10/dist-packages (from rich->keras>=3.2.0->tensorflow) (3.0.0)\n",
            "Requirement already satisfied: pygments<3.0.0,>=2.13.0 in /usr/local/lib/python3.10/dist-packages (from rich->keras>=3.2.0->tensorflow) (2.18.0)\n",
            "Requirement already satisfied: mdurl~=0.1 in /usr/local/lib/python3.10/dist-packages (from markdown-it-py>=2.2.0->rich->keras>=3.2.0->tensorflow) (0.1.2)\n",
            "Requirement already satisfied: tensorflow-hub in /usr/local/lib/python3.10/dist-packages (0.16.1)\n",
            "Requirement already satisfied: numpy>=1.12.0 in /usr/local/lib/python3.10/dist-packages (from tensorflow-hub) (1.26.4)\n",
            "Requirement already satisfied: protobuf>=3.19.6 in /usr/local/lib/python3.10/dist-packages (from tensorflow-hub) (3.20.3)\n",
            "Requirement already satisfied: tf-keras>=2.14.1 in /usr/local/lib/python3.10/dist-packages (from tensorflow-hub) (2.17.0)\n",
            "Requirement already satisfied: tensorflow<2.18,>=2.17 in /usr/local/lib/python3.10/dist-packages (from tf-keras>=2.14.1->tensorflow-hub) (2.17.0)\n",
            "Requirement already satisfied: absl-py>=1.0.0 in /usr/local/lib/python3.10/dist-packages (from tensorflow<2.18,>=2.17->tf-keras>=2.14.1->tensorflow-hub) (1.4.0)\n",
            "Requirement already satisfied: astunparse>=1.6.0 in /usr/local/lib/python3.10/dist-packages (from tensorflow<2.18,>=2.17->tf-keras>=2.14.1->tensorflow-hub) (1.6.3)\n",
            "Requirement already satisfied: flatbuffers>=24.3.25 in /usr/local/lib/python3.10/dist-packages (from tensorflow<2.18,>=2.17->tf-keras>=2.14.1->tensorflow-hub) (24.3.25)\n",
            "Requirement already satisfied: gast!=0.5.0,!=0.5.1,!=0.5.2,>=0.2.1 in /usr/local/lib/python3.10/dist-packages (from tensorflow<2.18,>=2.17->tf-keras>=2.14.1->tensorflow-hub) (0.6.0)\n",
            "Requirement already satisfied: google-pasta>=0.1.1 in /usr/local/lib/python3.10/dist-packages (from tensorflow<2.18,>=2.17->tf-keras>=2.14.1->tensorflow-hub) (0.2.0)\n",
            "Requirement already satisfied: h5py>=3.10.0 in /usr/local/lib/python3.10/dist-packages (from tensorflow<2.18,>=2.17->tf-keras>=2.14.1->tensorflow-hub) (3.11.0)\n",
            "Requirement already satisfied: libclang>=13.0.0 in /usr/local/lib/python3.10/dist-packages (from tensorflow<2.18,>=2.17->tf-keras>=2.14.1->tensorflow-hub) (18.1.1)\n",
            "Requirement already satisfied: ml-dtypes<0.5.0,>=0.3.1 in /usr/local/lib/python3.10/dist-packages (from tensorflow<2.18,>=2.17->tf-keras>=2.14.1->tensorflow-hub) (0.4.1)\n",
            "Requirement already satisfied: opt-einsum>=2.3.2 in /usr/local/lib/python3.10/dist-packages (from tensorflow<2.18,>=2.17->tf-keras>=2.14.1->tensorflow-hub) (3.4.0)\n",
            "Requirement already satisfied: packaging in /usr/local/lib/python3.10/dist-packages (from tensorflow<2.18,>=2.17->tf-keras>=2.14.1->tensorflow-hub) (24.1)\n",
            "Requirement already satisfied: requests<3,>=2.21.0 in /usr/local/lib/python3.10/dist-packages (from tensorflow<2.18,>=2.17->tf-keras>=2.14.1->tensorflow-hub) (2.32.3)\n",
            "Requirement already satisfied: setuptools in /usr/local/lib/python3.10/dist-packages (from tensorflow<2.18,>=2.17->tf-keras>=2.14.1->tensorflow-hub) (75.1.0)\n",
            "Requirement already satisfied: six>=1.12.0 in /usr/local/lib/python3.10/dist-packages (from tensorflow<2.18,>=2.17->tf-keras>=2.14.1->tensorflow-hub) (1.16.0)\n",
            "Requirement already satisfied: termcolor>=1.1.0 in /usr/local/lib/python3.10/dist-packages (from tensorflow<2.18,>=2.17->tf-keras>=2.14.1->tensorflow-hub) (2.5.0)\n",
            "Requirement already satisfied: typing-extensions>=3.6.6 in /usr/local/lib/python3.10/dist-packages (from tensorflow<2.18,>=2.17->tf-keras>=2.14.1->tensorflow-hub) (4.12.2)\n",
            "Requirement already satisfied: wrapt>=1.11.0 in /usr/local/lib/python3.10/dist-packages (from tensorflow<2.18,>=2.17->tf-keras>=2.14.1->tensorflow-hub) (1.16.0)\n",
            "Requirement already satisfied: grpcio<2.0,>=1.24.3 in /usr/local/lib/python3.10/dist-packages (from tensorflow<2.18,>=2.17->tf-keras>=2.14.1->tensorflow-hub) (1.64.1)\n",
            "Requirement already satisfied: tensorboard<2.18,>=2.17 in /usr/local/lib/python3.10/dist-packages (from tensorflow<2.18,>=2.17->tf-keras>=2.14.1->tensorflow-hub) (2.17.0)\n",
            "Requirement already satisfied: keras>=3.2.0 in /usr/local/lib/python3.10/dist-packages (from tensorflow<2.18,>=2.17->tf-keras>=2.14.1->tensorflow-hub) (3.4.1)\n",
            "Requirement already satisfied: tensorflow-io-gcs-filesystem>=0.23.1 in /usr/local/lib/python3.10/dist-packages (from tensorflow<2.18,>=2.17->tf-keras>=2.14.1->tensorflow-hub) (0.37.1)\n",
            "Requirement already satisfied: wheel<1.0,>=0.23.0 in /usr/local/lib/python3.10/dist-packages (from astunparse>=1.6.0->tensorflow<2.18,>=2.17->tf-keras>=2.14.1->tensorflow-hub) (0.44.0)\n",
            "Requirement already satisfied: rich in /usr/local/lib/python3.10/dist-packages (from keras>=3.2.0->tensorflow<2.18,>=2.17->tf-keras>=2.14.1->tensorflow-hub) (13.9.2)\n",
            "Requirement already satisfied: namex in /usr/local/lib/python3.10/dist-packages (from keras>=3.2.0->tensorflow<2.18,>=2.17->tf-keras>=2.14.1->tensorflow-hub) (0.0.8)\n",
            "Requirement already satisfied: optree in /usr/local/lib/python3.10/dist-packages (from keras>=3.2.0->tensorflow<2.18,>=2.17->tf-keras>=2.14.1->tensorflow-hub) (0.13.0)\n",
            "Requirement already satisfied: charset-normalizer<4,>=2 in /usr/local/lib/python3.10/dist-packages (from requests<3,>=2.21.0->tensorflow<2.18,>=2.17->tf-keras>=2.14.1->tensorflow-hub) (3.4.0)\n",
            "Requirement already satisfied: idna<4,>=2.5 in /usr/local/lib/python3.10/dist-packages (from requests<3,>=2.21.0->tensorflow<2.18,>=2.17->tf-keras>=2.14.1->tensorflow-hub) (3.10)\n",
            "Requirement already satisfied: urllib3<3,>=1.21.1 in /usr/local/lib/python3.10/dist-packages (from requests<3,>=2.21.0->tensorflow<2.18,>=2.17->tf-keras>=2.14.1->tensorflow-hub) (2.2.3)\n",
            "Requirement already satisfied: certifi>=2017.4.17 in /usr/local/lib/python3.10/dist-packages (from requests<3,>=2.21.0->tensorflow<2.18,>=2.17->tf-keras>=2.14.1->tensorflow-hub) (2024.8.30)\n",
            "Requirement already satisfied: markdown>=2.6.8 in /usr/local/lib/python3.10/dist-packages (from tensorboard<2.18,>=2.17->tensorflow<2.18,>=2.17->tf-keras>=2.14.1->tensorflow-hub) (3.7)\n",
            "Requirement already satisfied: tensorboard-data-server<0.8.0,>=0.7.0 in /usr/local/lib/python3.10/dist-packages (from tensorboard<2.18,>=2.17->tensorflow<2.18,>=2.17->tf-keras>=2.14.1->tensorflow-hub) (0.7.2)\n",
            "Requirement already satisfied: werkzeug>=1.0.1 in /usr/local/lib/python3.10/dist-packages (from tensorboard<2.18,>=2.17->tensorflow<2.18,>=2.17->tf-keras>=2.14.1->tensorflow-hub) (3.0.4)\n",
            "Requirement already satisfied: MarkupSafe>=2.1.1 in /usr/local/lib/python3.10/dist-packages (from werkzeug>=1.0.1->tensorboard<2.18,>=2.17->tensorflow<2.18,>=2.17->tf-keras>=2.14.1->tensorflow-hub) (3.0.1)\n",
            "Requirement already satisfied: markdown-it-py>=2.2.0 in /usr/local/lib/python3.10/dist-packages (from rich->keras>=3.2.0->tensorflow<2.18,>=2.17->tf-keras>=2.14.1->tensorflow-hub) (3.0.0)\n",
            "Requirement already satisfied: pygments<3.0.0,>=2.13.0 in /usr/local/lib/python3.10/dist-packages (from rich->keras>=3.2.0->tensorflow<2.18,>=2.17->tf-keras>=2.14.1->tensorflow-hub) (2.18.0)\n",
            "Requirement already satisfied: mdurl~=0.1 in /usr/local/lib/python3.10/dist-packages (from markdown-it-py>=2.2.0->rich->keras>=3.2.0->tensorflow<2.18,>=2.17->tf-keras>=2.14.1->tensorflow-hub) (0.1.2)\n"
          ]
        }
      ]
    },
    {
      "cell_type": "code",
      "execution_count": null,
      "metadata": {
        "id": "NTBEFV28Ez84"
      },
      "outputs": [],
      "source": [
        "# import the regular dependencies\n",
        "import pandas as pd\n",
        "import numpy as np\n",
        "import re\n",
        "# visualizations\n",
        "import matplotlib.pyplot as plt\n",
        "import seaborn as sns"
      ]
    },
    {
      "cell_type": "code",
      "source": [
        "# deep learning\n",
        "from absl import logging\n",
        "import tensorflow as tf\n",
        "import tensorflow_hub as hub"
      ],
      "metadata": {
        "id": "W6d0AnYOH2_x"
      },
      "execution_count": null,
      "outputs": []
    },
    {
      "cell_type": "code",
      "source": [
        "# Hugging face\n",
        "from transformers import pipeline\n",
        "\n",
        "# Scikit-learn\n",
        "from sklearn.cluster import KMeans\n",
        "\n",
        "# NLP\n",
        "from nltk import word_tokenize\n",
        "from nltk.corpus import stopwords\n",
        "import nltk"
      ],
      "metadata": {
        "id": "i1LmcBP6Ia-E"
      },
      "execution_count": null,
      "outputs": []
    },
    {
      "cell_type": "code",
      "source": [
        "# Download NLTK required stuff\n",
        "nltk.download('punkt')\n",
        "nltk.download('stopwords')"
      ],
      "metadata": {
        "colab": {
          "base_uri": "https://localhost:8080/"
        },
        "id": "BnpEl8UuI6ur",
        "outputId": "5ce574c6-ec31-4430-8094-950ba07c4c3d"
      },
      "execution_count": null,
      "outputs": [
        {
          "output_type": "stream",
          "name": "stderr",
          "text": [
            "[nltk_data] Downloading package punkt to /root/nltk_data...\n",
            "[nltk_data]   Package punkt is already up-to-date!\n",
            "[nltk_data] Downloading package stopwords to /root/nltk_data...\n",
            "[nltk_data]   Package stopwords is already up-to-date!\n"
          ]
        },
        {
          "output_type": "execute_result",
          "data": {
            "text/plain": [
              "True"
            ]
          },
          "metadata": {},
          "execution_count": 42
        }
      ]
    },
    {
      "cell_type": "markdown",
      "source": [
        "Load the deep learning NLP models"
      ],
      "metadata": {
        "id": "PtP-0e98JL5h"
      }
    },
    {
      "cell_type": "code",
      "source": [
        "# universal sentence encoder (google tool)\n",
        "USE_encoder = hub.load('https://tfhub.dev/google/universal-sentence-encoder/4')"
      ],
      "metadata": {
        "id": "mMYhKhrQJQ-g"
      },
      "execution_count": null,
      "outputs": []
    },
    {
      "cell_type": "code",
      "source": [
        "# function for encoder\n",
        "def embed(input):\n",
        "  return np.array(USE_encoder(input))"
      ],
      "metadata": {
        "id": "eHzb1O5UJxNG"
      },
      "execution_count": null,
      "outputs": []
    },
    {
      "cell_type": "code",
      "source": [
        "# testing embed\n",
        "\n",
        "embedding = embed(['Periwinkle is the cutest cat on this earth'])\n",
        "print(embedding.shape)\n",
        "embedding"
      ],
      "metadata": {
        "colab": {
          "base_uri": "https://localhost:8080/"
        },
        "collapsed": true,
        "id": "teS3WkTUKMre",
        "outputId": "d7290e94-2ce7-4718-d18b-f9d9d7db2caf"
      },
      "execution_count": null,
      "outputs": [
        {
          "output_type": "stream",
          "name": "stdout",
          "text": [
            "(1, 512)\n"
          ]
        },
        {
          "output_type": "execute_result",
          "data": {
            "text/plain": [
              "array([[ 0.00391846,  0.01274279,  0.02623516,  0.00370415, -0.03189528,\n",
              "        -0.03368703, -0.08717415,  0.05602524,  0.0438679 ,  0.03869963,\n",
              "         0.08625016,  0.08498762,  0.04600404,  0.04288676,  0.04460484,\n",
              "        -0.06075371,  0.03171036,  0.03024993, -0.01506158, -0.0659614 ,\n",
              "        -0.0168361 ,  0.05263606,  0.07330947,  0.05846681,  0.02593508,\n",
              "        -0.00255194, -0.01368903, -0.00548333,  0.02566856,  0.03563115,\n",
              "         0.03105341, -0.03472221,  0.01859838, -0.03838378, -0.055206  ,\n",
              "         0.05286211,  0.0079084 , -0.02328929, -0.00701442,  0.00605312,\n",
              "        -0.03398285, -0.01315333,  0.02827187,  0.01517749, -0.08889882,\n",
              "         0.03035991, -0.02369202,  0.0206339 ,  0.03755068, -0.04848065,\n",
              "         0.0017768 , -0.07454223,  0.0190682 , -0.03507861,  0.02991584,\n",
              "        -0.02057871,  0.04919337,  0.02558943,  0.0407723 , -0.08126426,\n",
              "         0.0090759 , -0.0650176 , -0.08137345, -0.02070892,  0.0862634 ,\n",
              "         0.06305104, -0.01327307,  0.04486159, -0.06077323,  0.02802408,\n",
              "        -0.01480617,  0.02230904,  0.02486905,  0.07789557, -0.06453209,\n",
              "         0.05674675,  0.01250794, -0.03171809, -0.04674402, -0.00348594,\n",
              "         0.02717439,  0.07515108,  0.05176424, -0.05471082, -0.00129331,\n",
              "        -0.04726435, -0.01758632,  0.04968585,  0.01716285, -0.05879116,\n",
              "        -0.05322311, -0.00123599, -0.06021156, -0.00464421,  0.02824919,\n",
              "        -0.03870498,  0.01133612, -0.02665979,  0.06520529, -0.01986903,\n",
              "         0.08178344, -0.02101939,  0.0318783 , -0.06159536,  0.073918  ,\n",
              "         0.02148812,  0.08663388, -0.03588981,  0.0437006 , -0.08581092,\n",
              "        -0.05953084,  0.05843158, -0.05046507,  0.01750901, -0.00875241,\n",
              "         0.01717006, -0.03770933, -0.02070982, -0.07755712,  0.03159133,\n",
              "         0.01936919,  0.00054524,  0.01467578,  0.04545752, -0.03263858,\n",
              "        -0.00981812,  0.03922534,  0.00852861,  0.05177595,  0.08471004,\n",
              "         0.02943181,  0.08436724,  0.02609579,  0.07826828, -0.01397487,\n",
              "         0.03676006,  0.00796346,  0.00901639, -0.06851848, -0.05031661,\n",
              "        -0.00172772, -0.01778206,  0.06220636, -0.02073089,  0.01600131,\n",
              "        -0.06438667, -0.02610586, -0.00838503, -0.0221537 ,  0.01882436,\n",
              "         0.06671789, -0.01593597, -0.06222487, -0.04423257, -0.02908758,\n",
              "         0.0623934 , -0.05832294, -0.06824855, -0.07337058,  0.03251842,\n",
              "         0.02391096,  0.04883325, -0.02583622,  0.00166195,  0.00694636,\n",
              "        -0.0886879 , -0.00743372, -0.01608743,  0.04177047,  0.01399587,\n",
              "         0.03788903,  0.05317217, -0.00394897,  0.01945199,  0.01593847,\n",
              "         0.04016716, -0.00652758, -0.05460217, -0.03457898,  0.00205912,\n",
              "        -0.05961212, -0.00160012,  0.02536814, -0.03191639,  0.00797599,\n",
              "        -0.00825191, -0.03127708,  0.00923242,  0.08748554,  0.03210195,\n",
              "        -0.07437642, -0.07125263,  0.01400048, -0.08483357,  0.00892698,\n",
              "         0.07527517,  0.02842091, -0.04266928,  0.05445616, -0.05686907,\n",
              "        -0.02503091, -0.01700436, -0.03840584, -0.00163305, -0.04540743,\n",
              "        -0.01159093, -0.00499451,  0.08912491, -0.00960048, -0.08793622,\n",
              "         0.03328393,  0.08911681,  0.0374468 , -0.04675571,  0.00745898,\n",
              "         0.00419825, -0.02197575,  0.04967943,  0.03386317, -0.01030081,\n",
              "         0.01424219, -0.04199129,  0.0526938 , -0.08265572, -0.03790916,\n",
              "        -0.06320057,  0.02473184, -0.03282014,  0.03351556, -0.01137175,\n",
              "         0.04769037, -0.06593803,  0.01367836, -0.01587021, -0.01665278,\n",
              "         0.05233544,  0.06081795,  0.03888661, -0.0166919 , -0.00436476,\n",
              "        -0.05173394,  0.06337513,  0.04857994, -0.04320815,  0.08098961,\n",
              "         0.02875811,  0.04611592,  0.03178559, -0.07235388, -0.04559375,\n",
              "        -0.00968473, -0.04908986, -0.03558398, -0.07381333,  0.00338767,\n",
              "        -0.04763844,  0.02026432,  0.02000877, -0.0418537 ,  0.05900342,\n",
              "         0.00563175, -0.05676647, -0.01850386, -0.01840325,  0.05222428,\n",
              "        -0.08860371, -0.0045961 ,  0.01493111,  0.02370425,  0.06052756,\n",
              "        -0.08058903,  0.06655851,  0.02248261, -0.01569219, -0.00649218,\n",
              "        -0.03776833,  0.0203132 , -0.07592953,  0.07475975,  0.03929443,\n",
              "         0.06596043, -0.0187478 ,  0.06632841,  0.03740536,  0.06037707,\n",
              "        -0.00509922,  0.02953833,  0.08746824, -0.04378441,  0.07908279,\n",
              "         0.01648862,  0.05746581,  0.08482931, -0.08525649, -0.0239387 ,\n",
              "        -0.01905011,  0.04016814, -0.0515081 , -0.07483913,  0.02437209,\n",
              "         0.00615496,  0.03508569, -0.02895917,  0.04209344,  0.01857449,\n",
              "         0.0603216 ,  0.05256067,  0.03443906,  0.04250963,  0.03267275,\n",
              "         0.05897873,  0.01101962, -0.00316388, -0.00554473,  0.06721956,\n",
              "        -0.05727311,  0.01321871,  0.01007231, -0.01298871, -0.07286786,\n",
              "         0.035795  ,  0.03053423,  0.03363031, -0.0048679 ,  0.07416621,\n",
              "         0.02079789, -0.04925203, -0.01050123,  0.0392772 ,  0.01367997,\n",
              "         0.02350951, -0.02888434, -0.08816715, -0.06203158, -0.01832503,\n",
              "         0.04438998,  0.05466502, -0.02013274, -0.01807173,  0.03415291,\n",
              "        -0.02973044, -0.01999047, -0.04366503,  0.0364944 ,  0.00237919,\n",
              "         0.0586899 , -0.02972995,  0.00081755,  0.01209304,  0.00111301,\n",
              "        -0.02906955, -0.02334646, -0.01721662,  0.06392705,  0.0720177 ,\n",
              "         0.05303314, -0.08044038,  0.04695113,  0.0144669 ,  0.03150356,\n",
              "         0.01124485,  0.0700165 ,  0.0795377 ,  0.01270038, -0.0572168 ,\n",
              "         0.01791366,  0.01451166, -0.04125714,  0.01668194, -0.01377235,\n",
              "         0.02358013,  0.00920916, -0.01088259,  0.06024701,  0.03109225,\n",
              "         0.00961249,  0.02628441, -0.08754175,  0.07030537,  0.01751528,\n",
              "        -0.02835452, -0.00335652,  0.04098291,  0.06793717,  0.00572309,\n",
              "        -0.01353979, -0.08406635, -0.02037227,  0.06222274,  0.0525172 ,\n",
              "         0.01793927, -0.00818486,  0.02201588, -0.03547844, -0.0048569 ,\n",
              "        -0.05481935,  0.0098241 , -0.02386465,  0.01015411,  0.06213981,\n",
              "        -0.04802687, -0.02411981,  0.02154117,  0.0487233 ,  0.00385079,\n",
              "         0.05091242, -0.0251518 , -0.00777671, -0.02414506, -0.07351706,\n",
              "         0.0333824 , -0.03358049,  0.00078516, -0.01000857, -0.01245102,\n",
              "         0.01783791,  0.02256328,  0.07387153, -0.01057339, -0.02947718,\n",
              "        -0.02582089, -0.05260941,  0.0646551 ,  0.02136614,  0.05367598,\n",
              "         0.02143015, -0.08547397, -0.02400559, -0.07195194, -0.03597882,\n",
              "        -0.08790552, -0.05629674, -0.03500795, -0.03656917, -0.03521602,\n",
              "         0.01258499, -0.05673712, -0.08242493, -0.05609814, -0.07759295,\n",
              "        -0.00483342, -0.06232487, -0.01776635, -0.02848115,  0.08834763,\n",
              "         0.02071515, -0.03754656,  0.01340306, -0.00191425, -0.04343909,\n",
              "         0.05556656,  0.03578707,  0.00991416,  0.07880288,  0.0084444 ,\n",
              "        -0.06962515,  0.03821168,  0.00233117, -0.00903088,  0.03086451,\n",
              "        -0.05539466, -0.02825876, -0.04231584, -0.06126126,  0.06076286,\n",
              "        -0.03021068, -0.01237153,  0.05582808,  0.00395691,  0.00898057,\n",
              "        -0.03452567, -0.00957665,  0.08914725, -0.01005845, -0.02394487,\n",
              "         0.04055974, -0.03616542,  0.04687137,  0.07276412, -0.02466021,\n",
              "        -0.01130587, -0.01475964,  0.00904379,  0.02508538, -0.01859572,\n",
              "        -0.00185925, -0.03574743,  0.01464678, -0.0318718 , -0.060723  ,\n",
              "        -0.05264781, -0.07213064, -0.06834747, -0.00921465,  0.03840462,\n",
              "         0.01727317, -0.03274469,  0.00171194, -0.06275418,  0.03690173,\n",
              "         0.03877266,  0.08505801, -0.01934191,  0.04645138,  0.04501221,\n",
              "         0.01855145,  0.05824282,  0.04642203,  0.02774278, -0.03423263,\n",
              "        -0.02816821,  0.05193127]], dtype=float32)"
            ]
          },
          "metadata": {},
          "execution_count": 45
        }
      ]
    },
    {
      "cell_type": "markdown",
      "source": [
        "Get sentiment model from hugging face"
      ],
      "metadata": {
        "id": "gyiW4_yFKdop"
      }
    },
    {
      "cell_type": "code",
      "source": [
        "sentiment_model = pipeline('sentiment-analysis')\n"
      ],
      "metadata": {
        "colab": {
          "base_uri": "https://localhost:8080/"
        },
        "id": "Eza5gq5NKgJV",
        "outputId": "98df3998-9e3c-4dbf-b437-b1be53b1c86e"
      },
      "execution_count": null,
      "outputs": [
        {
          "output_type": "stream",
          "name": "stderr",
          "text": [
            "No model was supplied, defaulted to distilbert/distilbert-base-uncased-finetuned-sst-2-english and revision af0f99b (https://huggingface.co/distilbert/distilbert-base-uncased-finetuned-sst-2-english).\n",
            "Using a pipeline without specifying a model name and revision in production is not recommended.\n",
            "/usr/local/lib/python3.10/dist-packages/transformers/tokenization_utils_base.py:1601: FutureWarning: `clean_up_tokenization_spaces` was not set. It will be set to `True` by default. This behavior will be depracted in transformers v4.45, and will be then set to `False` by default. For more details check this issue: https://github.com/huggingface/transformers/issues/31884\n",
            "  warnings.warn(\n"
          ]
        }
      ]
    },
    {
      "cell_type": "code",
      "source": [
        "# testing model\n",
        "\n",
        "result = sentiment_model(\"Moose is a great dog and he knows it\")"
      ],
      "metadata": {
        "id": "ny8X1c79K3ac"
      },
      "execution_count": null,
      "outputs": []
    },
    {
      "cell_type": "markdown",
      "source": [
        "will be using the below function in workflow!"
      ],
      "metadata": {
        "id": "yvLG6QgZMEIe"
      }
    },
    {
      "cell_type": "code",
      "source": [
        "def sentiment(input):\n",
        "  result = sentiment_model(input)\n",
        "  sign = 1 if(result[0]['label']==\"POSITIVE\") else -1\n",
        "  value = result[0]['score']\n",
        "  return sign*value\n",
        "\n",
        "sentiment(\"Moose is a great dog and he knows it\")"
      ],
      "metadata": {
        "colab": {
          "base_uri": "https://localhost:8080/"
        },
        "id": "6bQGgq6fLXcd",
        "outputId": "4bd1638c-a2c7-40ad-ee42-53676d401706"
      },
      "execution_count": null,
      "outputs": [
        {
          "output_type": "execute_result",
          "data": {
            "text/plain": [
              "0.999699592590332"
            ]
          },
          "metadata": {},
          "execution_count": 48
        }
      ]
    },
    {
      "cell_type": "markdown",
      "source": [
        "Connect to gdrive"
      ],
      "metadata": {
        "id": "Uuai7dOTL_7S"
      }
    },
    {
      "cell_type": "code",
      "source": [
        "# connect to gdrive and subsequently read in excel file\n",
        "from google.colab import drive\n",
        "drive.mount('/content/drive/')"
      ],
      "metadata": {
        "colab": {
          "base_uri": "https://localhost:8080/"
        },
        "id": "Q_e8oU1IFi2f",
        "outputId": "62b86867-0ba8-46fb-8cac-103c08e51fb6"
      },
      "execution_count": null,
      "outputs": [
        {
          "output_type": "stream",
          "name": "stdout",
          "text": [
            "Drive already mounted at /content/drive/; to attempt to forcibly remount, call drive.mount(\"/content/drive/\", force_remount=True).\n"
          ]
        }
      ]
    },
    {
      "cell_type": "code",
      "source": [
        "df = pd.read_excel('/content/drive/MyDrive/Colab Notebooks/NLP_projects/df_joined.xlsx')\n",
        "df.head(5)"
      ],
      "metadata": {
        "colab": {
          "base_uri": "https://localhost:8080/",
          "height": 290
        },
        "id": "T24zuumoGW4v",
        "outputId": "5eda2201-75e5-4610-a786-5db9fcffe86b"
      },
      "execution_count": null,
      "outputs": [
        {
          "output_type": "execute_result",
          "data": {
            "text/plain": [
              "   Unnamed: 0.1  USER_ID DIGITAL_LICENSE SOURCE  POS  \\\n",
              "0             0   154189           HABES  HABES  NaN   \n",
              "1             1   163919           HABES  HABES  NaN   \n",
              "2             2   164718           HABES  HABES  NaN   \n",
              "3             3   171493           HABES  HABES  NaN   \n",
              "4             4   173630           HABES  HABES  NaN   \n",
              "\n",
              "   FACILITIES CLEANLINESS (State pa  FACILITIES CLEANLINESS (State hi  \\\n",
              "0                               4.0                               4.0   \n",
              "1                               5.0                               5.0   \n",
              "2                               5.0                               5.0   \n",
              "3                               4.0                               4.0   \n",
              "4                               4.0                               4.0   \n",
              "\n",
              "   FACILITIES CLEANLINESS (Wildlife  FACILITIES CLEANLINESS (Headquar  \\\n",
              "0                               4.0                               5.0   \n",
              "1                               5.0                               5.0   \n",
              "2                               5.0                               5.0   \n",
              "3                               4.0                               0.0   \n",
              "4                               5.0                               0.0   \n",
              "\n",
              "   FACILITIES CLEANLINESS (Law enfo  ...  overall_satisfaction_positive_score  \\\n",
              "0                               5.0  ...                             0.610453   \n",
              "1                               5.0  ...                                  NaN   \n",
              "2                               5.0  ...                             0.978410   \n",
              "3                               0.0  ...                                  NaN   \n",
              "4                               4.0  ...                             0.051130   \n",
              "\n",
              "   phone_satisfaction_negative_score  phone_satisfaction_neutral_score  \\\n",
              "0                           0.761155                          0.204755   \n",
              "1                                NaN                               NaN   \n",
              "2                                NaN                               NaN   \n",
              "3                                NaN                               NaN   \n",
              "4                                NaN                               NaN   \n",
              "\n",
              "   phone_satisfaction_positive_score  digital_lic_satisfaction_negative_score  \\\n",
              "0                            0.03409                                      NaN   \n",
              "1                                NaN                                      NaN   \n",
              "2                                NaN                                      NaN   \n",
              "3                                NaN                                      NaN   \n",
              "4                                NaN                                      NaN   \n",
              "\n",
              "   digital_lic_satisfaction_neutral_score  \\\n",
              "0                                     NaN   \n",
              "1                                     NaN   \n",
              "2                                     NaN   \n",
              "3                                     NaN   \n",
              "4                                     NaN   \n",
              "\n",
              "   digital_lic_satisfaction_positive_score  \\\n",
              "0                                      NaN   \n",
              "1                                      NaN   \n",
              "2                                      NaN   \n",
              "3                                      NaN   \n",
              "4                                      NaN   \n",
              "\n",
              "   gov_qa_satisfaction_negative_score  gov_qa_satisfaction_neutral_score  \\\n",
              "0                                 NaN                                NaN   \n",
              "1                                 NaN                                NaN   \n",
              "2                                 NaN                                NaN   \n",
              "3                                 NaN                                NaN   \n",
              "4                                 NaN                                NaN   \n",
              "\n",
              "   gov_qa_satisfaction_positive_score  \n",
              "0                                 NaN  \n",
              "1                                 NaN  \n",
              "2                                 NaN  \n",
              "3                                 NaN  \n",
              "4                                 NaN  \n",
              "\n",
              "[5 rows x 113 columns]"
            ],
            "text/html": [
              "\n",
              "  <div id=\"df-592ae058-82ea-4482-a87d-381b16b98be7\" class=\"colab-df-container\">\n",
              "    <div>\n",
              "<style scoped>\n",
              "    .dataframe tbody tr th:only-of-type {\n",
              "        vertical-align: middle;\n",
              "    }\n",
              "\n",
              "    .dataframe tbody tr th {\n",
              "        vertical-align: top;\n",
              "    }\n",
              "\n",
              "    .dataframe thead th {\n",
              "        text-align: right;\n",
              "    }\n",
              "</style>\n",
              "<table border=\"1\" class=\"dataframe\">\n",
              "  <thead>\n",
              "    <tr style=\"text-align: right;\">\n",
              "      <th></th>\n",
              "      <th>Unnamed: 0.1</th>\n",
              "      <th>USER_ID</th>\n",
              "      <th>DIGITAL_LICENSE</th>\n",
              "      <th>SOURCE</th>\n",
              "      <th>POS</th>\n",
              "      <th>FACILITIES CLEANLINESS (State pa</th>\n",
              "      <th>FACILITIES CLEANLINESS (State hi</th>\n",
              "      <th>FACILITIES CLEANLINESS (Wildlife</th>\n",
              "      <th>FACILITIES CLEANLINESS (Headquar</th>\n",
              "      <th>FACILITIES CLEANLINESS (Law enfo</th>\n",
              "      <th>...</th>\n",
              "      <th>overall_satisfaction_positive_score</th>\n",
              "      <th>phone_satisfaction_negative_score</th>\n",
              "      <th>phone_satisfaction_neutral_score</th>\n",
              "      <th>phone_satisfaction_positive_score</th>\n",
              "      <th>digital_lic_satisfaction_negative_score</th>\n",
              "      <th>digital_lic_satisfaction_neutral_score</th>\n",
              "      <th>digital_lic_satisfaction_positive_score</th>\n",
              "      <th>gov_qa_satisfaction_negative_score</th>\n",
              "      <th>gov_qa_satisfaction_neutral_score</th>\n",
              "      <th>gov_qa_satisfaction_positive_score</th>\n",
              "    </tr>\n",
              "  </thead>\n",
              "  <tbody>\n",
              "    <tr>\n",
              "      <th>0</th>\n",
              "      <td>0</td>\n",
              "      <td>154189</td>\n",
              "      <td>HABES</td>\n",
              "      <td>HABES</td>\n",
              "      <td>NaN</td>\n",
              "      <td>4.0</td>\n",
              "      <td>4.0</td>\n",
              "      <td>4.0</td>\n",
              "      <td>5.0</td>\n",
              "      <td>5.0</td>\n",
              "      <td>...</td>\n",
              "      <td>0.610453</td>\n",
              "      <td>0.761155</td>\n",
              "      <td>0.204755</td>\n",
              "      <td>0.03409</td>\n",
              "      <td>NaN</td>\n",
              "      <td>NaN</td>\n",
              "      <td>NaN</td>\n",
              "      <td>NaN</td>\n",
              "      <td>NaN</td>\n",
              "      <td>NaN</td>\n",
              "    </tr>\n",
              "    <tr>\n",
              "      <th>1</th>\n",
              "      <td>1</td>\n",
              "      <td>163919</td>\n",
              "      <td>HABES</td>\n",
              "      <td>HABES</td>\n",
              "      <td>NaN</td>\n",
              "      <td>5.0</td>\n",
              "      <td>5.0</td>\n",
              "      <td>5.0</td>\n",
              "      <td>5.0</td>\n",
              "      <td>5.0</td>\n",
              "      <td>...</td>\n",
              "      <td>NaN</td>\n",
              "      <td>NaN</td>\n",
              "      <td>NaN</td>\n",
              "      <td>NaN</td>\n",
              "      <td>NaN</td>\n",
              "      <td>NaN</td>\n",
              "      <td>NaN</td>\n",
              "      <td>NaN</td>\n",
              "      <td>NaN</td>\n",
              "      <td>NaN</td>\n",
              "    </tr>\n",
              "    <tr>\n",
              "      <th>2</th>\n",
              "      <td>2</td>\n",
              "      <td>164718</td>\n",
              "      <td>HABES</td>\n",
              "      <td>HABES</td>\n",
              "      <td>NaN</td>\n",
              "      <td>5.0</td>\n",
              "      <td>5.0</td>\n",
              "      <td>5.0</td>\n",
              "      <td>5.0</td>\n",
              "      <td>5.0</td>\n",
              "      <td>...</td>\n",
              "      <td>0.978410</td>\n",
              "      <td>NaN</td>\n",
              "      <td>NaN</td>\n",
              "      <td>NaN</td>\n",
              "      <td>NaN</td>\n",
              "      <td>NaN</td>\n",
              "      <td>NaN</td>\n",
              "      <td>NaN</td>\n",
              "      <td>NaN</td>\n",
              "      <td>NaN</td>\n",
              "    </tr>\n",
              "    <tr>\n",
              "      <th>3</th>\n",
              "      <td>3</td>\n",
              "      <td>171493</td>\n",
              "      <td>HABES</td>\n",
              "      <td>HABES</td>\n",
              "      <td>NaN</td>\n",
              "      <td>4.0</td>\n",
              "      <td>4.0</td>\n",
              "      <td>4.0</td>\n",
              "      <td>0.0</td>\n",
              "      <td>0.0</td>\n",
              "      <td>...</td>\n",
              "      <td>NaN</td>\n",
              "      <td>NaN</td>\n",
              "      <td>NaN</td>\n",
              "      <td>NaN</td>\n",
              "      <td>NaN</td>\n",
              "      <td>NaN</td>\n",
              "      <td>NaN</td>\n",
              "      <td>NaN</td>\n",
              "      <td>NaN</td>\n",
              "      <td>NaN</td>\n",
              "    </tr>\n",
              "    <tr>\n",
              "      <th>4</th>\n",
              "      <td>4</td>\n",
              "      <td>173630</td>\n",
              "      <td>HABES</td>\n",
              "      <td>HABES</td>\n",
              "      <td>NaN</td>\n",
              "      <td>4.0</td>\n",
              "      <td>4.0</td>\n",
              "      <td>5.0</td>\n",
              "      <td>0.0</td>\n",
              "      <td>4.0</td>\n",
              "      <td>...</td>\n",
              "      <td>0.051130</td>\n",
              "      <td>NaN</td>\n",
              "      <td>NaN</td>\n",
              "      <td>NaN</td>\n",
              "      <td>NaN</td>\n",
              "      <td>NaN</td>\n",
              "      <td>NaN</td>\n",
              "      <td>NaN</td>\n",
              "      <td>NaN</td>\n",
              "      <td>NaN</td>\n",
              "    </tr>\n",
              "  </tbody>\n",
              "</table>\n",
              "<p>5 rows × 113 columns</p>\n",
              "</div>\n",
              "    <div class=\"colab-df-buttons\">\n",
              "\n",
              "  <div class=\"colab-df-container\">\n",
              "    <button class=\"colab-df-convert\" onclick=\"convertToInteractive('df-592ae058-82ea-4482-a87d-381b16b98be7')\"\n",
              "            title=\"Convert this dataframe to an interactive table.\"\n",
              "            style=\"display:none;\">\n",
              "\n",
              "  <svg xmlns=\"http://www.w3.org/2000/svg\" height=\"24px\" viewBox=\"0 -960 960 960\">\n",
              "    <path d=\"M120-120v-720h720v720H120Zm60-500h600v-160H180v160Zm220 220h160v-160H400v160Zm0 220h160v-160H400v160ZM180-400h160v-160H180v160Zm440 0h160v-160H620v160ZM180-180h160v-160H180v160Zm440 0h160v-160H620v160Z\"/>\n",
              "  </svg>\n",
              "    </button>\n",
              "\n",
              "  <style>\n",
              "    .colab-df-container {\n",
              "      display:flex;\n",
              "      gap: 12px;\n",
              "    }\n",
              "\n",
              "    .colab-df-convert {\n",
              "      background-color: #E8F0FE;\n",
              "      border: none;\n",
              "      border-radius: 50%;\n",
              "      cursor: pointer;\n",
              "      display: none;\n",
              "      fill: #1967D2;\n",
              "      height: 32px;\n",
              "      padding: 0 0 0 0;\n",
              "      width: 32px;\n",
              "    }\n",
              "\n",
              "    .colab-df-convert:hover {\n",
              "      background-color: #E2EBFA;\n",
              "      box-shadow: 0px 1px 2px rgba(60, 64, 67, 0.3), 0px 1px 3px 1px rgba(60, 64, 67, 0.15);\n",
              "      fill: #174EA6;\n",
              "    }\n",
              "\n",
              "    .colab-df-buttons div {\n",
              "      margin-bottom: 4px;\n",
              "    }\n",
              "\n",
              "    [theme=dark] .colab-df-convert {\n",
              "      background-color: #3B4455;\n",
              "      fill: #D2E3FC;\n",
              "    }\n",
              "\n",
              "    [theme=dark] .colab-df-convert:hover {\n",
              "      background-color: #434B5C;\n",
              "      box-shadow: 0px 1px 3px 1px rgba(0, 0, 0, 0.15);\n",
              "      filter: drop-shadow(0px 1px 2px rgba(0, 0, 0, 0.3));\n",
              "      fill: #FFFFFF;\n",
              "    }\n",
              "  </style>\n",
              "\n",
              "    <script>\n",
              "      const buttonEl =\n",
              "        document.querySelector('#df-592ae058-82ea-4482-a87d-381b16b98be7 button.colab-df-convert');\n",
              "      buttonEl.style.display =\n",
              "        google.colab.kernel.accessAllowed ? 'block' : 'none';\n",
              "\n",
              "      async function convertToInteractive(key) {\n",
              "        const element = document.querySelector('#df-592ae058-82ea-4482-a87d-381b16b98be7');\n",
              "        const dataTable =\n",
              "          await google.colab.kernel.invokeFunction('convertToInteractive',\n",
              "                                                    [key], {});\n",
              "        if (!dataTable) return;\n",
              "\n",
              "        const docLinkHtml = 'Like what you see? Visit the ' +\n",
              "          '<a target=\"_blank\" href=https://colab.research.google.com/notebooks/data_table.ipynb>data table notebook</a>'\n",
              "          + ' to learn more about interactive tables.';\n",
              "        element.innerHTML = '';\n",
              "        dataTable['output_type'] = 'display_data';\n",
              "        await google.colab.output.renderOutput(dataTable, element);\n",
              "        const docLink = document.createElement('div');\n",
              "        docLink.innerHTML = docLinkHtml;\n",
              "        element.appendChild(docLink);\n",
              "      }\n",
              "    </script>\n",
              "  </div>\n",
              "\n",
              "\n",
              "<div id=\"df-16682898-f0c1-4379-bd35-367f44e0c4cc\">\n",
              "  <button class=\"colab-df-quickchart\" onclick=\"quickchart('df-16682898-f0c1-4379-bd35-367f44e0c4cc')\"\n",
              "            title=\"Suggest charts\"\n",
              "            style=\"display:none;\">\n",
              "\n",
              "<svg xmlns=\"http://www.w3.org/2000/svg\" height=\"24px\"viewBox=\"0 0 24 24\"\n",
              "     width=\"24px\">\n",
              "    <g>\n",
              "        <path d=\"M19 3H5c-1.1 0-2 .9-2 2v14c0 1.1.9 2 2 2h14c1.1 0 2-.9 2-2V5c0-1.1-.9-2-2-2zM9 17H7v-7h2v7zm4 0h-2V7h2v10zm4 0h-2v-4h2v4z\"/>\n",
              "    </g>\n",
              "</svg>\n",
              "  </button>\n",
              "\n",
              "<style>\n",
              "  .colab-df-quickchart {\n",
              "      --bg-color: #E8F0FE;\n",
              "      --fill-color: #1967D2;\n",
              "      --hover-bg-color: #E2EBFA;\n",
              "      --hover-fill-color: #174EA6;\n",
              "      --disabled-fill-color: #AAA;\n",
              "      --disabled-bg-color: #DDD;\n",
              "  }\n",
              "\n",
              "  [theme=dark] .colab-df-quickchart {\n",
              "      --bg-color: #3B4455;\n",
              "      --fill-color: #D2E3FC;\n",
              "      --hover-bg-color: #434B5C;\n",
              "      --hover-fill-color: #FFFFFF;\n",
              "      --disabled-bg-color: #3B4455;\n",
              "      --disabled-fill-color: #666;\n",
              "  }\n",
              "\n",
              "  .colab-df-quickchart {\n",
              "    background-color: var(--bg-color);\n",
              "    border: none;\n",
              "    border-radius: 50%;\n",
              "    cursor: pointer;\n",
              "    display: none;\n",
              "    fill: var(--fill-color);\n",
              "    height: 32px;\n",
              "    padding: 0;\n",
              "    width: 32px;\n",
              "  }\n",
              "\n",
              "  .colab-df-quickchart:hover {\n",
              "    background-color: var(--hover-bg-color);\n",
              "    box-shadow: 0 1px 2px rgba(60, 64, 67, 0.3), 0 1px 3px 1px rgba(60, 64, 67, 0.15);\n",
              "    fill: var(--button-hover-fill-color);\n",
              "  }\n",
              "\n",
              "  .colab-df-quickchart-complete:disabled,\n",
              "  .colab-df-quickchart-complete:disabled:hover {\n",
              "    background-color: var(--disabled-bg-color);\n",
              "    fill: var(--disabled-fill-color);\n",
              "    box-shadow: none;\n",
              "  }\n",
              "\n",
              "  .colab-df-spinner {\n",
              "    border: 2px solid var(--fill-color);\n",
              "    border-color: transparent;\n",
              "    border-bottom-color: var(--fill-color);\n",
              "    animation:\n",
              "      spin 1s steps(1) infinite;\n",
              "  }\n",
              "\n",
              "  @keyframes spin {\n",
              "    0% {\n",
              "      border-color: transparent;\n",
              "      border-bottom-color: var(--fill-color);\n",
              "      border-left-color: var(--fill-color);\n",
              "    }\n",
              "    20% {\n",
              "      border-color: transparent;\n",
              "      border-left-color: var(--fill-color);\n",
              "      border-top-color: var(--fill-color);\n",
              "    }\n",
              "    30% {\n",
              "      border-color: transparent;\n",
              "      border-left-color: var(--fill-color);\n",
              "      border-top-color: var(--fill-color);\n",
              "      border-right-color: var(--fill-color);\n",
              "    }\n",
              "    40% {\n",
              "      border-color: transparent;\n",
              "      border-right-color: var(--fill-color);\n",
              "      border-top-color: var(--fill-color);\n",
              "    }\n",
              "    60% {\n",
              "      border-color: transparent;\n",
              "      border-right-color: var(--fill-color);\n",
              "    }\n",
              "    80% {\n",
              "      border-color: transparent;\n",
              "      border-right-color: var(--fill-color);\n",
              "      border-bottom-color: var(--fill-color);\n",
              "    }\n",
              "    90% {\n",
              "      border-color: transparent;\n",
              "      border-bottom-color: var(--fill-color);\n",
              "    }\n",
              "  }\n",
              "</style>\n",
              "\n",
              "  <script>\n",
              "    async function quickchart(key) {\n",
              "      const quickchartButtonEl =\n",
              "        document.querySelector('#' + key + ' button');\n",
              "      quickchartButtonEl.disabled = true;  // To prevent multiple clicks.\n",
              "      quickchartButtonEl.classList.add('colab-df-spinner');\n",
              "      try {\n",
              "        const charts = await google.colab.kernel.invokeFunction(\n",
              "            'suggestCharts', [key], {});\n",
              "      } catch (error) {\n",
              "        console.error('Error during call to suggestCharts:', error);\n",
              "      }\n",
              "      quickchartButtonEl.classList.remove('colab-df-spinner');\n",
              "      quickchartButtonEl.classList.add('colab-df-quickchart-complete');\n",
              "    }\n",
              "    (() => {\n",
              "      let quickchartButtonEl =\n",
              "        document.querySelector('#df-16682898-f0c1-4379-bd35-367f44e0c4cc button');\n",
              "      quickchartButtonEl.style.display =\n",
              "        google.colab.kernel.accessAllowed ? 'block' : 'none';\n",
              "    })();\n",
              "  </script>\n",
              "</div>\n",
              "\n",
              "    </div>\n",
              "  </div>\n"
            ],
            "application/vnd.google.colaboratory.intrinsic+json": {
              "type": "dataframe",
              "variable_name": "df"
            }
          },
          "metadata": {},
          "execution_count": 50
        }
      ]
    },
    {
      "cell_type": "markdown",
      "source": [
        "Going to focus on the open ended satisfaction feedback first"
      ],
      "metadata": {
        "id": "HgEUu4rZMbcX"
      }
    },
    {
      "cell_type": "code",
      "source": [
        "feedback = df['OPEN ENDED SUGGESTIONS'].dropna().tolist()"
      ],
      "metadata": {
        "id": "LbwdNiHYGncR"
      },
      "execution_count": null,
      "outputs": []
    },
    {
      "cell_type": "code",
      "source": [
        "suggestions_df = df['OPEN ENDED SUGGESTIONS'].dropna()\n",
        "suggestions_df.shape"
      ],
      "metadata": {
        "colab": {
          "base_uri": "https://localhost:8080/"
        },
        "id": "zerCZ2OIq2xP",
        "outputId": "423a097c-29af-44c2-8421-65eb314d2ae7"
      },
      "execution_count": null,
      "outputs": [
        {
          "output_type": "execute_result",
          "data": {
            "text/plain": [
              "(326,)"
            ]
          },
          "metadata": {},
          "execution_count": 52
        }
      ]
    },
    {
      "cell_type": "markdown",
      "source": [
        "Create topic model"
      ],
      "metadata": {
        "id": "CVDGNGM3NP7X"
      }
    },
    {
      "cell_type": "markdown",
      "source": [
        "initialize model\n",
        "* (REMEMBER TO CHECK THE top_5_keywords [-x:] value because I'm playing around with the number of topic keywords!!!!)"
      ],
      "metadata": {
        "id": "vSeiy7YhQC6B"
      }
    },
    {
      "cell_type": "code",
      "source": [
        "class ReviewsTopicModel:\n",
        "\n",
        "\n",
        "    STOPWORDS = set(stopwords.words('english'))\n",
        "    # because R3 is used in almost all the responses, going to add it as a STOPWORD\n",
        "    # so it's not considered for the topic names\n",
        "    STOPWORDS.add('r3')\n",
        "\n",
        "    EMBEDDING_DIM = 512 # for the \"USE\" encoder, which is the max length of the array\n",
        "    # MAX_SEQUENCE_LENGTH = 512 # Get around the truncated error issue w/ roBERTa | NEVERMIND- WENT INTO THE SENTIMENT FUNCTION ABOVE AND FIXED\n",
        "\n",
        "    # Constructor\n",
        "    def __init__(self, reviews):\n",
        "        self.X = self.clean(reviews)\n",
        "\n",
        "    # Clean text method\n",
        "    def clean(self, reviews):\n",
        "        # Words to replace based on cluster testing -R3 is obviously being chosen as a keyword...\n",
        "        string_map = {'\\r': '', '\\n': '', '/': ' ', \"'\": \"\", '\"': '', \"parks\" : 'park', \"parkland\" : \"park\",\n",
        "                      'campsites': 'campsite', 'reservations' : 'reservation', 'nope': 'none'}\n",
        "        reviews_cleaned = reviews[:]\n",
        "        for i in range(len(reviews_cleaned)):\n",
        "            for s in string_map:\n",
        "                reviews_cleaned[i] = reviews_cleaned[i].replace(s, string_map[s]).lower()\n",
        "        # Transform the reviews into embeddings dataframe\n",
        "        X = embed(reviews_cleaned)\n",
        "        X = pd.DataFrame(X)\n",
        "        X.index = reviews_cleaned\n",
        "        return X\n",
        "\n",
        "    # Method to determine number of topics (a.k.a kmeans cluster number)\n",
        "    def elbow_plot(self):\n",
        "        cluster_sizes = list(range(1, 75)) # a high end range value paints a clear picture\n",
        "        cluster_scores = []\n",
        "        for n in cluster_sizes:\n",
        "            kmeans = KMeans(n_clusters=n)\n",
        "            kmeans.fit(self.X)\n",
        "            cluster_scores.append(kmeans.inertia_)\n",
        "        plt.figure()\n",
        "        plt.plot(cluster_sizes, cluster_scores)\n",
        "        plt.xlabel('Number of Clusters')\n",
        "        plt.ylabel('Cluster Scores')\n",
        "        plt.title('Elbow Method')\n",
        "        plt.show()\n",
        "\n",
        "    # Method to extract topics from text data\n",
        "    def create_topics(self, num_topics):\n",
        "        # Cluster the reviews\n",
        "        kmeans = KMeans(n_clusters=num_topics)\n",
        "        kmeans.fit(self.X)\n",
        "\n",
        "        # Create the final topics dataframe\n",
        "        topics_df = self.X.copy()\n",
        "        topics_df['topic'] = kmeans.labels_.copy()\n",
        "        topics_df['topic'] = topics_df['topic'].astype(int)\n",
        "\n",
        "        # Create summary keywords per topic\n",
        "        topic_keywords = {}\n",
        "        for topic in topics_df['topic'].unique():\n",
        "            topic_reviews = topics_df.query(\"topic == {}\".format(topic)).index.tolist()\n",
        "            topic_centroid = kmeans.cluster_centers_[topic] # cluster center\n",
        "            topic_keywords[topic] = self.get_closest_words(topic_reviews, topic_centroid)\n",
        "        topics_df['topic_keywords'] = topics_df['topic'].map(topic_keywords)\n",
        "\n",
        "        # Score the sentiment of each review\n",
        "        topics_df['sentiment'] = [sentiment(r) for r in topics_df.index.values.tolist()]\n",
        "\n",
        "        # Final result\n",
        "        self.topics_keywords = topic_keywords\n",
        "        self.topics_df = topics_df.copy()[['topic', 'topic_keywords', 'sentiment']]\n",
        "\n",
        "\n",
        "    def get_closest_words(self, reviews, centroid):\n",
        "        word_distances = {}\n",
        "        for r in reviews:\n",
        "            review_words = [w for w in word_tokenize(r) if(w not in self.STOPWORDS)]\n",
        "            for w in review_words:\n",
        "                word_embedding = embed([w]) # return 512 dimensional vector for the word 'w'\n",
        "                # how similar is the word embedding to the topic's centroid (avg of the cluster sample's embeddings)\n",
        "                word_distances[w] = self.cosine_similarity(word_embedding, centroid) # 1 it means match, closer to 0 means different\n",
        "        # done collecting the distances of the words to the topic's center\n",
        "        top_5_keywords = sorted([(word_distances[w], w) for w in word_distances])[-3:] # first elements will have smaller distances based on cosine similarity | TOP WORDS CLOSER TO 1 (W/ -1:)\n",
        "        return \",\".join([x[1] for x in top_5_keywords])\n",
        "\n",
        "    def cosine_similarity(self, x, y): # arbitrary vectors\n",
        "        # x,y are both the appropriate dimension\n",
        "        x = x.reshape(self.EMBEDDING_DIM,)\n",
        "        y = y.reshape(self.EMBEDDING_DIM,)\n",
        "        # calculate cosine similarity\n",
        "        dotproduct = x.dot(y)\n",
        "        x_mag = x.dot(x)**0.5\n",
        "        y_mag = y.dot(y)**0.5\n",
        "        # returns closer to 1 if x and y are similar, closer to 0 if they are different\n",
        "        return dotproduct/(x_mag * y_mag)"
      ],
      "metadata": {
        "id": "aetWgKexnaN7"
      },
      "execution_count": null,
      "outputs": []
    },
    {
      "cell_type": "code",
      "source": [
        "topic_model = ReviewsTopicModel(feedback)"
      ],
      "metadata": {
        "id": "JsY90pDMGnqu"
      },
      "execution_count": null,
      "outputs": []
    },
    {
      "cell_type": "code",
      "source": [],
      "metadata": {
        "colab": {
          "base_uri": "https://localhost:8080/"
        },
        "id": "2XPXHKtDk5P4",
        "outputId": "b692196e-b237-412e-a571-251e16f919ec"
      },
      "execution_count": null,
      "outputs": [
        {
          "output_type": "execute_result",
          "data": {
            "text/plain": [
              "<__main__.ReviewsTopicModel at 0x7be6e4813520>"
            ]
          },
          "metadata": {},
          "execution_count": 61
        }
      ]
    },
    {
      "cell_type": "code",
      "source": [
        "# topic_model.X\n",
        "# 512 columns which is what we wanted, yuhhhhhh"
      ],
      "metadata": {
        "collapsed": true,
        "id": "_2HjfjdnGntM"
      },
      "execution_count": null,
      "outputs": []
    },
    {
      "cell_type": "markdown",
      "source": [
        "Elbow plot"
      ],
      "metadata": {
        "id": "mlcKf7lOUHOW"
      }
    },
    {
      "cell_type": "code",
      "source": [
        "topic_model.elbow_plot() # let's start with 15 clusters (probably will have to increase though)"
      ],
      "metadata": {
        "colab": {
          "base_uri": "https://localhost:8080/",
          "height": 430
        },
        "id": "kf-0RzlfTHGG",
        "outputId": "ceb5d393-993b-467c-f140-535882b1fb7a",
        "collapsed": true
      },
      "execution_count": null,
      "outputs": [
        {
          "output_type": "display_data",
          "data": {
            "text/plain": [
              "<Figure size 640x480 with 1 Axes>"
            ],
            "image/png": "[encoded data removed]"
          },
          "metadata": {}
        }
      ]
    },
    {
      "cell_type": "markdown",
      "source": [
        "You could make an argument for choosing something like 20 topics, but that is a ton (maybe it's not though, I'm assuming here) and I'd like to limit it to 15 or so.  UPDATE: I WAS WRONG, WE NEED MORE TOPICS, JUST NOT SURE HOW MANY :("
      ],
      "metadata": {
        "id": "L9srC1XUUNWE"
      }
    },
    {
      "cell_type": "markdown",
      "source": [
        "Create final model and evaluate it"
      ],
      "metadata": {
        "id": "Ro9sf9anVM8U"
      }
    },
    {
      "cell_type": "code",
      "source": [
        "topic_model.create_topics(num_topics = 13) # tried everything from 12-24, it's proving difficult because of the breadth of responses"
      ],
      "metadata": {
        "id": "ZSWY-Pz6VMUB"
      },
      "execution_count": null,
      "outputs": []
    },
    {
      "cell_type": "code",
      "source": [
        "topic_model.topics_df.query(\"topic == 12\")"
      ],
      "metadata": {
        "colab": {
          "base_uri": "https://localhost:8080/",
          "height": 1000
        },
        "id": "8Kwyd-W6ba9c",
        "outputId": "38af0149-bb41-4f8a-8073-82adc1853db0"
      },
      "execution_count": null,
      "outputs": [
        {
          "output_type": "execute_result",
          "data": {
            "text/plain": [
              "                                                    topic  \\\n",
              "i would sure like to be able to buy a park pass...     12   \n",
              "discounted rate for annual pass or lifetime tpw...     12   \n",
              "yes, i do, i think the tpwd should have classes...     12   \n",
              "buying fishing license was confusing, ended up ...     12   \n",
              "just used the web site to re-register my boat          12   \n",
              "turn watercraft registration over to county tax...     12   \n",
              "print and make available the guides that you us...     12   \n",
              "wish yall bring back texas annual hunting and f...     12   \n",
              "way to many tickets for very minor infraction.         12   \n",
              "paid for boat trailer renewal sticker in octobe...     12   \n",
              "it is very gratifying when someone within a gov...     12   \n",
              "would like to have fishing license on smart pho...     12   \n",
              "i think outdoor annuals should be made availabl...     12   \n",
              "keep up the good work. i am near 70 years old. ...     12   \n",
              "the only time i really interact with the tpwd p...     12   \n",
              "im new to texas, so i really couldnt answer a l...     12   \n",
              "when sending titles please use certified mail.         12   \n",
              "the registration process when you have issues i...     12   \n",
              "why is it so hard to change a title and ownersh...     12   \n",
              "i only really use the apps for license and hunt...     12   \n",
              "when requiring identification on any devices li...     12   \n",
              "an actual veteran park pass discount.  i am ret...     12   \n",
              "how about the winning lotto numbers every time ...     12   \n",
              "please provide paper outdoor annuals at retaile...     12   \n",
              "mobil app asking for my harvest triangulated lo...     12   \n",
              "go back to printed manuels.and try to be more c...     12   \n",
              "rules, seasons and limits are too restrictive. ...     12   \n",
              "other than looking up hunting seasons per count...     12   \n",
              "change the rules for determining whether a buck...     12   \n",
              "all fishing licenses (resident and non-resident...     12   \n",
              "if i buy a fishing license at the wrong month, ...     12   \n",
              "mike, yeah so we can download it and read it in...     12   \n",
              "can you give me a free fishing license.? please...     12   \n",
              "\n",
              "                                                               topic_keywords  \\\n",
              "i would sure like to be able to buy a park pass...  licenses,license,license.   \n",
              "discounted rate for annual pass or lifetime tpw...  licenses,license,license.   \n",
              "yes, i do, i think the tpwd should have classes...  licenses,license,license.   \n",
              "buying fishing license was confusing, ended up ...  licenses,license,license.   \n",
              "just used the web site to re-register my boat       licenses,license,license.   \n",
              "turn watercraft registration over to county tax...  licenses,license,license.   \n",
              "print and make available the guides that you us...  licenses,license,license.   \n",
              "wish yall bring back texas annual hunting and f...  licenses,license,license.   \n",
              "way to many tickets for very minor infraction.      licenses,license,license.   \n",
              "paid for boat trailer renewal sticker in octobe...  licenses,license,license.   \n",
              "it is very gratifying when someone within a gov...  licenses,license,license.   \n",
              "would like to have fishing license on smart pho...  licenses,license,license.   \n",
              "i think outdoor annuals should be made availabl...  licenses,license,license.   \n",
              "keep up the good work. i am near 70 years old. ...  licenses,license,license.   \n",
              "the only time i really interact with the tpwd p...  licenses,license,license.   \n",
              "im new to texas, so i really couldnt answer a l...  licenses,license,license.   \n",
              "when sending titles please use certified mail.      licenses,license,license.   \n",
              "the registration process when you have issues i...  licenses,license,license.   \n",
              "why is it so hard to change a title and ownersh...  licenses,license,license.   \n",
              "i only really use the apps for license and hunt...  licenses,license,license.   \n",
              "when requiring identification on any devices li...  licenses,license,license.   \n",
              "an actual veteran park pass discount.  i am ret...  licenses,license,license.   \n",
              "how about the winning lotto numbers every time ...  licenses,license,license.   \n",
              "please provide paper outdoor annuals at retaile...  licenses,license,license.   \n",
              "mobil app asking for my harvest triangulated lo...  licenses,license,license.   \n",
              "go back to printed manuels.and try to be more c...  licenses,license,license.   \n",
              "rules, seasons and limits are too restrictive. ...  licenses,license,license.   \n",
              "other than looking up hunting seasons per count...  licenses,license,license.   \n",
              "change the rules for determining whether a buck...  licenses,license,license.   \n",
              "all fishing licenses (resident and non-resident...  licenses,license,license.   \n",
              "if i buy a fishing license at the wrong month, ...  licenses,license,license.   \n",
              "mike, yeah so we can download it and read it in...  licenses,license,license.   \n",
              "can you give me a free fishing license.? please...  licenses,license,license.   \n",
              "\n",
              "                                                    sentiment  \n",
              "i would sure like to be able to buy a park pass...  -0.985335  \n",
              "discounted rate for annual pass or lifetime tpw...  -0.968648  \n",
              "yes, i do, i think the tpwd should have classes...  -0.993260  \n",
              "buying fishing license was confusing, ended up ...  -0.997457  \n",
              "just used the web site to re-register my boat       -0.999681  \n",
              "turn watercraft registration over to county tax...  -0.999728  \n",
              "print and make available the guides that you us...  -0.994436  \n",
              "wish yall bring back texas annual hunting and f...  -0.991805  \n",
              "way to many tickets for very minor infraction.      -0.981418  \n",
              "paid for boat trailer renewal sticker in octobe...  -0.999538  \n",
              "it is very gratifying when someone within a gov...  -0.952778  \n",
              "would like to have fishing license on smart pho...  -0.999250  \n",
              "i think outdoor annuals should be made availabl...   0.976446  \n",
              "keep up the good work. i am near 70 years old. ...   0.953223  \n",
              "the only time i really interact with the tpwd p...  -0.999796  \n",
              "im new to texas, so i really couldnt answer a l...   0.999418  \n",
              "when sending titles please use certified mail.      -0.960787  \n",
              "the registration process when you have issues i...  -0.998450  \n",
              "why is it so hard to change a title and ownersh...  -0.998503  \n",
              "i only really use the apps for license and hunt...  -0.998862  \n",
              "when requiring identification on any devices li...  -0.999551  \n",
              "an actual veteran park pass discount.  i am ret...  -0.981472  \n",
              "how about the winning lotto numbers every time ...  -0.956863  \n",
              "please provide paper outdoor annuals at retaile...  -0.983937  \n",
              "mobil app asking for my harvest triangulated lo...  -0.996048  \n",
              "go back to printed manuels.and try to be more c...  -0.998406  \n",
              "rules, seasons and limits are too restrictive. ...  -0.987508  \n",
              "other than looking up hunting seasons per count...   0.999015  \n",
              "change the rules for determining whether a buck...  -0.994089  \n",
              "all fishing licenses (resident and non-resident...  -0.940424  \n",
              "if i buy a fishing license at the wrong month, ...  -0.998797  \n",
              "mike, yeah so we can download it and read it in...  -0.966618  \n",
              "can you give me a free fishing license.? please...  -0.999624  "
            ],
            "text/html": [
              "\n",
              "  <div id=\"df-1aaa2421-73fb-4899-98c8-1ba73d888861\" class=\"colab-df-container\">\n",
              "    <div>\n",
              "<style scoped>\n",
              "    .dataframe tbody tr th:only-of-type {\n",
              "        vertical-align: middle;\n",
              "    }\n",
              "\n",
              "    .dataframe tbody tr th {\n",
              "        vertical-align: top;\n",
              "    }\n",
              "\n",
              "    .dataframe thead th {\n",
              "        text-align: right;\n",
              "    }\n",
              "</style>\n",
              "<table border=\"1\" class=\"dataframe\">\n",
              "  <thead>\n",
              "    <tr style=\"text-align: right;\">\n",
              "      <th></th>\n",
              "      <th>topic</th>\n",
              "      <th>topic_keywords</th>\n",
              "      <th>sentiment</th>\n",
              "    </tr>\n",
              "  </thead>\n",
              "  <tbody>\n",
              "    <tr>\n",
              "      <th>i would sure like to be able to buy a park pass online and see the details of my pass (vehicle info, expirations, etc.)</th>\n",
              "      <td>12</td>\n",
              "      <td>licenses,license,license.</td>\n",
              "      <td>-0.985335</td>\n",
              "    </tr>\n",
              "    <tr>\n",
              "      <th>discounted rate for annual pass or lifetime tpwd pass for us veterans.</th>\n",
              "      <td>12</td>\n",
              "      <td>licenses,license,license.</td>\n",
              "      <td>-0.968648</td>\n",
              "    </tr>\n",
              "    <tr>\n",
              "      <th>yes, i do, i think the tpwd should have classes on how to go about registering, rules and using texas public land. i would pay a fee to just learn on how to do it and do it right.</th>\n",
              "      <td>12</td>\n",
              "      <td>licenses,license,license.</td>\n",
              "      <td>-0.993260</td>\n",
              "    </tr>\n",
              "    <tr>\n",
              "      <th>buying fishing license was confusing, ended up buying permits that werent needed</th>\n",
              "      <td>12</td>\n",
              "      <td>licenses,license,license.</td>\n",
              "      <td>-0.997457</td>\n",
              "    </tr>\n",
              "    <tr>\n",
              "      <th>just used the web site to re-register my boat</th>\n",
              "      <td>12</td>\n",
              "      <td>licenses,license,license.</td>\n",
              "      <td>-0.999681</td>\n",
              "    </tr>\n",
              "    <tr>\n",
              "      <th>turn watercraft registration over to county tax offices. your registration folks are clueless and not helpful at all. usually takes several trips with new requests for documents on each visit.</th>\n",
              "      <td>12</td>\n",
              "      <td>licenses,license,license.</td>\n",
              "      <td>-0.999728</td>\n",
              "    </tr>\n",
              "    <tr>\n",
              "      <th>print and make available the guides that you used to get when you get a license. not everyone has a computer and the information is very useful in the field or on the water.</th>\n",
              "      <td>12</td>\n",
              "      <td>licenses,license,license.</td>\n",
              "      <td>-0.994436</td>\n",
              "    </tr>\n",
              "    <tr>\n",
              "      <th>wish yall bring back texas annual hunting and fishing books back when you buy your new license</th>\n",
              "      <td>12</td>\n",
              "      <td>licenses,license,license.</td>\n",
              "      <td>-0.991805</td>\n",
              "    </tr>\n",
              "    <tr>\n",
              "      <th>way to many tickets for very minor infraction.</th>\n",
              "      <td>12</td>\n",
              "      <td>licenses,license,license.</td>\n",
              "      <td>-0.981418</td>\n",
              "    </tr>\n",
              "    <tr>\n",
              "      <th>paid for boat trailer renewal sticker in october 2023. called in february looking for it. it is said to have been mailed out in february 2024. still havent received it. was told nothing can be done until 30 days after it was mailed. i would have to pay $22 for a replacement even though i didnt lose it.  meanwhile we are grounded until tpwl. gets us a sticker. some of the questions by tpwl about the situation were inappropriate and lacked common sense.</th>\n",
              "      <td>12</td>\n",
              "      <td>licenses,license,license.</td>\n",
              "      <td>-0.999538</td>\n",
              "    </tr>\n",
              "    <tr>\n",
              "      <th>it is very gratifying when someone within a government agency really goes out of their way. because of a single incorrect digit on my boats registration, it looked like i would not get a new sticker. thanks to ronald neumond, he helped me get my clean water sticker.</th>\n",
              "      <td>12</td>\n",
              "      <td>licenses,license,license.</td>\n",
              "      <td>-0.952778</td>\n",
              "    </tr>\n",
              "    <tr>\n",
              "      <th>would like to have fishing license on smart phone app.too much detailed bureaucratic text on mobile app. makes finding real information very difficult</th>\n",
              "      <td>12</td>\n",
              "      <td>licenses,license,license.</td>\n",
              "      <td>-0.999250</td>\n",
              "    </tr>\n",
              "    <tr>\n",
              "      <th>i think outdoor annuals should be made available at license retailers.  i can use the app to access it but my ederly parents struggle with technology but love the outdoors.</th>\n",
              "      <td>12</td>\n",
              "      <td>licenses,license,license.</td>\n",
              "      <td>0.976446</td>\n",
              "    </tr>\n",
              "    <tr>\n",
              "      <th>keep up the good work. i am near 70 years old. i would like a lifetime hunting fishing license at no cost. i have always bought the combo and still do, but at my age, please consider a free liftime license.</th>\n",
              "      <td>12</td>\n",
              "      <td>licenses,license,license.</td>\n",
              "      <td>0.953223</td>\n",
              "    </tr>\n",
              "    <tr>\n",
              "      <th>the only time i really interact with the tpwd personnel is when registering a boat.  hard to believe that we are in 2024 and you dont accept credit card debit card payments.  checks or cash only.  just hard to believe and due to this i had to make multiple trips to get done what should have been available online.  and having separate boat and trailer registration in different places is a joke.  no reason for this at all.  you dont need badged leos to run the boat registration office.  serious waste of money</th>\n",
              "      <td>12</td>\n",
              "      <td>licenses,license,license.</td>\n",
              "      <td>-0.999796</td>\n",
              "    </tr>\n",
              "    <tr>\n",
              "      <th>im new to texas, so i really couldnt answer a lot of questions.  my boat and motor registration and title transfer, by mail, was awesome!</th>\n",
              "      <td>12</td>\n",
              "      <td>licenses,license,license.</td>\n",
              "      <td>0.999418</td>\n",
              "    </tr>\n",
              "    <tr>\n",
              "      <th>when sending titles please use certified mail.</th>\n",
              "      <td>12</td>\n",
              "      <td>licenses,license,license.</td>\n",
              "      <td>-0.960787</td>\n",
              "    </tr>\n",
              "    <tr>\n",
              "      <th>the registration process when you have issues is very complicated to navigate. i see now why some people give up and fail to register boats</th>\n",
              "      <td>12</td>\n",
              "      <td>licenses,license,license.</td>\n",
              "      <td>-0.998450</td>\n",
              "    </tr>\n",
              "    <tr>\n",
              "      <th>why is it so hard to change a title and ownership. next to impossible.</th>\n",
              "      <td>12</td>\n",
              "      <td>licenses,license,license.</td>\n",
              "      <td>-0.998503</td>\n",
              "    </tr>\n",
              "    <tr>\n",
              "      <th>i only really use the apps for license and hunting fishing regulations</th>\n",
              "      <td>12</td>\n",
              "      <td>licenses,license,license.</td>\n",
              "      <td>-0.998862</td>\n",
              "    </tr>\n",
              "    <tr>\n",
              "      <th>when requiring identification on any devices like trotline tags, assign a # on your license so our personal information is not available to anyone who who wants to know.</th>\n",
              "      <td>12</td>\n",
              "      <td>licenses,license,license.</td>\n",
              "      <td>-0.999551</td>\n",
              "    </tr>\n",
              "    <tr>\n",
              "      <th>an actual veteran park pass discount.  i am retired military with 10% disability and pay full fees.  really?</th>\n",
              "      <td>12</td>\n",
              "      <td>licenses,license,license.</td>\n",
              "      <td>-0.981472</td>\n",
              "    </tr>\n",
              "    <tr>\n",
              "      <th>how about the winning lotto numbers every time we register?  just kidding!</th>\n",
              "      <td>12</td>\n",
              "      <td>licenses,license,license.</td>\n",
              "      <td>-0.956863</td>\n",
              "    </tr>\n",
              "    <tr>\n",
              "      <th>please provide paper outdoor annuals at retailers where licenses are sold.</th>\n",
              "      <td>12</td>\n",
              "      <td>licenses,license,license.</td>\n",
              "      <td>-0.983937</td>\n",
              "    </tr>\n",
              "    <tr>\n",
              "      <th>mobil app asking for my harvest triangulated location is none of your businessâ€¦. all you need is ranch name and county, not the exact spotâ€¦. i will never abuse a mobil ap again, everâ€¦.</th>\n",
              "      <td>12</td>\n",
              "      <td>licenses,license,license.</td>\n",
              "      <td>-0.996048</td>\n",
              "    </tr>\n",
              "    <tr>\n",
              "      <th>go back to printed manuels.and try to be more clear on what license and bag limit for bullfrog are. make it easier for the average joe to understand</th>\n",
              "      <td>12</td>\n",
              "      <td>licenses,license,license.</td>\n",
              "      <td>-0.998406</td>\n",
              "    </tr>\n",
              "    <tr>\n",
              "      <th>rules, seasons and limits are too restrictive.  seem to be catering to the rich.  out of touch on seasons, example - been a dove hunter since 1960s.  there is no doubt in my mind that the migration has shifted by almost a month, yet seasons have not changed.  bird numbers are down in september, but increase to the glory days by mid october with great numbers in november.  yet, almost tpwd says dove numbers are normal or to expect higher numbers, just doesnt happen.  need to be working usfw to extend dove hunting through november.</th>\n",
              "      <td>12</td>\n",
              "      <td>licenses,license,license.</td>\n",
              "      <td>-0.987508</td>\n",
              "    </tr>\n",
              "    <tr>\n",
              "      <th>other than looking up hunting seasons per county, and purchasing my license every year, i have never contacted anyone or any facilities for lack of needing to. keep up the great work.</th>\n",
              "      <td>12</td>\n",
              "      <td>licenses,license,license.</td>\n",
              "      <td>0.999015</td>\n",
              "    </tr>\n",
              "    <tr>\n",
              "      <th>change the rules for determining whether a buck is legal to take. it is easier to count points than guess width of inside spread, especially at a distance!</th>\n",
              "      <td>12</td>\n",
              "      <td>licenses,license,license.</td>\n",
              "      <td>-0.994089</td>\n",
              "    </tr>\n",
              "    <tr>\n",
              "      <th>all fishing licenses (resident and non-resident) should be valid 1 year from date of purchase.</th>\n",
              "      <td>12</td>\n",
              "      <td>licenses,license,license.</td>\n",
              "      <td>-0.940424</td>\n",
              "    </tr>\n",
              "    <tr>\n",
              "      <th>if i buy a fishing license at the wrong month, i can get a whole month of fishing for the price of a whole year.    that is a rotten way to treat people. it should be good for 12 months from date of purchase.</th>\n",
              "      <td>12</td>\n",
              "      <td>licenses,license,license.</td>\n",
              "      <td>-0.998797</td>\n",
              "    </tr>\n",
              "    <tr>\n",
              "      <th>mike, yeah so we can download it and read it in the woods when we need it when we dont have service</th>\n",
              "      <td>12</td>\n",
              "      <td>licenses,license,license.</td>\n",
              "      <td>-0.966618</td>\n",
              "    </tr>\n",
              "    <tr>\n",
              "      <th>can you give me a free fishing license.? please i have no money at the moment</th>\n",
              "      <td>12</td>\n",
              "      <td>licenses,license,license.</td>\n",
              "      <td>-0.999624</td>\n",
              "    </tr>\n",
              "  </tbody>\n",
              "</table>\n",
              "</div>\n",
              "    <div class=\"colab-df-buttons\">\n",
              "\n",
              "  <div class=\"colab-df-container\">\n",
              "    <button class=\"colab-df-convert\" onclick=\"convertToInteractive('df-1aaa2421-73fb-4899-98c8-1ba73d888861')\"\n",
              "            title=\"Convert this dataframe to an interactive table.\"\n",
              "            style=\"display:none;\">\n",
              "\n",
              "  <svg xmlns=\"http://www.w3.org/2000/svg\" height=\"24px\" viewBox=\"0 -960 960 960\">\n",
              "    <path d=\"M120-120v-720h720v720H120Zm60-500h600v-160H180v160Zm220 220h160v-160H400v160Zm0 220h160v-160H400v160ZM180-400h160v-160H180v160Zm440 0h160v-160H620v160ZM180-180h160v-160H180v160Zm440 0h160v-160H620v160Z\"/>\n",
              "  </svg>\n",
              "    </button>\n",
              "\n",
              "  <style>\n",
              "    .colab-df-container {\n",
              "      display:flex;\n",
              "      gap: 12px;\n",
              "    }\n",
              "\n",
              "    .colab-df-convert {\n",
              "      background-color: #E8F0FE;\n",
              "      border: none;\n",
              "      border-radius: 50%;\n",
              "      cursor: pointer;\n",
              "      display: none;\n",
              "      fill: #1967D2;\n",
              "      height: 32px;\n",
              "      padding: 0 0 0 0;\n",
              "      width: 32px;\n",
              "    }\n",
              "\n",
              "    .colab-df-convert:hover {\n",
              "      background-color: #E2EBFA;\n",
              "      box-shadow: 0px 1px 2px rgba(60, 64, 67, 0.3), 0px 1px 3px 1px rgba(60, 64, 67, 0.15);\n",
              "      fill: #174EA6;\n",
              "    }\n",
              "\n",
              "    .colab-df-buttons div {\n",
              "      margin-bottom: 4px;\n",
              "    }\n",
              "\n",
              "    [theme=dark] .colab-df-convert {\n",
              "      background-color: #3B4455;\n",
              "      fill: #D2E3FC;\n",
              "    }\n",
              "\n",
              "    [theme=dark] .colab-df-convert:hover {\n",
              "      background-color: #434B5C;\n",
              "      box-shadow: 0px 1px 3px 1px rgba(0, 0, 0, 0.15);\n",
              "      filter: drop-shadow(0px 1px 2px rgba(0, 0, 0, 0.3));\n",
              "      fill: #FFFFFF;\n",
              "    }\n",
              "  </style>\n",
              "\n",
              "    <script>\n",
              "      const buttonEl =\n",
              "        document.querySelector('#df-1aaa2421-73fb-4899-98c8-1ba73d888861 button.colab-df-convert');\n",
              "      buttonEl.style.display =\n",
              "        google.colab.kernel.accessAllowed ? 'block' : 'none';\n",
              "\n",
              "      async function convertToInteractive(key) {\n",
              "        const element = document.querySelector('#df-1aaa2421-73fb-4899-98c8-1ba73d888861');\n",
              "        const dataTable =\n",
              "          await google.colab.kernel.invokeFunction('convertToInteractive',\n",
              "                                                    [key], {});\n",
              "        if (!dataTable) return;\n",
              "\n",
              "        const docLinkHtml = 'Like what you see? Visit the ' +\n",
              "          '<a target=\"_blank\" href=https://colab.research.google.com/notebooks/data_table.ipynb>data table notebook</a>'\n",
              "          + ' to learn more about interactive tables.';\n",
              "        element.innerHTML = '';\n",
              "        dataTable['output_type'] = 'display_data';\n",
              "        await google.colab.output.renderOutput(dataTable, element);\n",
              "        const docLink = document.createElement('div');\n",
              "        docLink.innerHTML = docLinkHtml;\n",
              "        element.appendChild(docLink);\n",
              "      }\n",
              "    </script>\n",
              "  </div>\n",
              "\n",
              "\n",
              "<div id=\"df-e2a5e548-ba59-410c-afa3-71d3857ed601\">\n",
              "  <button class=\"colab-df-quickchart\" onclick=\"quickchart('df-e2a5e548-ba59-410c-afa3-71d3857ed601')\"\n",
              "            title=\"Suggest charts\"\n",
              "            style=\"display:none;\">\n",
              "\n",
              "<svg xmlns=\"http://www.w3.org/2000/svg\" height=\"24px\"viewBox=\"0 0 24 24\"\n",
              "     width=\"24px\">\n",
              "    <g>\n",
              "        <path d=\"M19 3H5c-1.1 0-2 .9-2 2v14c0 1.1.9 2 2 2h14c1.1 0 2-.9 2-2V5c0-1.1-.9-2-2-2zM9 17H7v-7h2v7zm4 0h-2V7h2v10zm4 0h-2v-4h2v4z\"/>\n",
              "    </g>\n",
              "</svg>\n",
              "  </button>\n",
              "\n",
              "<style>\n",
              "  .colab-df-quickchart {\n",
              "      --bg-color: #E8F0FE;\n",
              "      --fill-color: #1967D2;\n",
              "      --hover-bg-color: #E2EBFA;\n",
              "      --hover-fill-color: #174EA6;\n",
              "      --disabled-fill-color: #AAA;\n",
              "      --disabled-bg-color: #DDD;\n",
              "  }\n",
              "\n",
              "  [theme=dark] .colab-df-quickchart {\n",
              "      --bg-color: #3B4455;\n",
              "      --fill-color: #D2E3FC;\n",
              "      --hover-bg-color: #434B5C;\n",
              "      --hover-fill-color: #FFFFFF;\n",
              "      --disabled-bg-color: #3B4455;\n",
              "      --disabled-fill-color: #666;\n",
              "  }\n",
              "\n",
              "  .colab-df-quickchart {\n",
              "    background-color: var(--bg-color);\n",
              "    border: none;\n",
              "    border-radius: 50%;\n",
              "    cursor: pointer;\n",
              "    display: none;\n",
              "    fill: var(--fill-color);\n",
              "    height: 32px;\n",
              "    padding: 0;\n",
              "    width: 32px;\n",
              "  }\n",
              "\n",
              "  .colab-df-quickchart:hover {\n",
              "    background-color: var(--hover-bg-color);\n",
              "    box-shadow: 0 1px 2px rgba(60, 64, 67, 0.3), 0 1px 3px 1px rgba(60, 64, 67, 0.15);\n",
              "    fill: var(--button-hover-fill-color);\n",
              "  }\n",
              "\n",
              "  .colab-df-quickchart-complete:disabled,\n",
              "  .colab-df-quickchart-complete:disabled:hover {\n",
              "    background-color: var(--disabled-bg-color);\n",
              "    fill: var(--disabled-fill-color);\n",
              "    box-shadow: none;\n",
              "  }\n",
              "\n",
              "  .colab-df-spinner {\n",
              "    border: 2px solid var(--fill-color);\n",
              "    border-color: transparent;\n",
              "    border-bottom-color: var(--fill-color);\n",
              "    animation:\n",
              "      spin 1s steps(1) infinite;\n",
              "  }\n",
              "\n",
              "  @keyframes spin {\n",
              "    0% {\n",
              "      border-color: transparent;\n",
              "      border-bottom-color: var(--fill-color);\n",
              "      border-left-color: var(--fill-color);\n",
              "    }\n",
              "    20% {\n",
              "      border-color: transparent;\n",
              "      border-left-color: var(--fill-color);\n",
              "      border-top-color: var(--fill-color);\n",
              "    }\n",
              "    30% {\n",
              "      border-color: transparent;\n",
              "      border-left-color: var(--fill-color);\n",
              "      border-top-color: var(--fill-color);\n",
              "      border-right-color: var(--fill-color);\n",
              "    }\n",
              "    40% {\n",
              "      border-color: transparent;\n",
              "      border-right-color: var(--fill-color);\n",
              "      border-top-color: var(--fill-color);\n",
              "    }\n",
              "    60% {\n",
              "      border-color: transparent;\n",
              "      border-right-color: var(--fill-color);\n",
              "    }\n",
              "    80% {\n",
              "      border-color: transparent;\n",
              "      border-right-color: var(--fill-color);\n",
              "      border-bottom-color: var(--fill-color);\n",
              "    }\n",
              "    90% {\n",
              "      border-color: transparent;\n",
              "      border-bottom-color: var(--fill-color);\n",
              "    }\n",
              "  }\n",
              "</style>\n",
              "\n",
              "  <script>\n",
              "    async function quickchart(key) {\n",
              "      const quickchartButtonEl =\n",
              "        document.querySelector('#' + key + ' button');\n",
              "      quickchartButtonEl.disabled = true;  // To prevent multiple clicks.\n",
              "      quickchartButtonEl.classList.add('colab-df-spinner');\n",
              "      try {\n",
              "        const charts = await google.colab.kernel.invokeFunction(\n",
              "            'suggestCharts', [key], {});\n",
              "      } catch (error) {\n",
              "        console.error('Error during call to suggestCharts:', error);\n",
              "      }\n",
              "      quickchartButtonEl.classList.remove('colab-df-spinner');\n",
              "      quickchartButtonEl.classList.add('colab-df-quickchart-complete');\n",
              "    }\n",
              "    (() => {\n",
              "      let quickchartButtonEl =\n",
              "        document.querySelector('#df-e2a5e548-ba59-410c-afa3-71d3857ed601 button');\n",
              "      quickchartButtonEl.style.display =\n",
              "        google.colab.kernel.accessAllowed ? 'block' : 'none';\n",
              "    })();\n",
              "  </script>\n",
              "</div>\n",
              "\n",
              "    </div>\n",
              "  </div>\n"
            ],
            "application/vnd.google.colaboratory.intrinsic+json": {
              "type": "dataframe",
              "summary": "{\n  \"name\": \"topic_model\",\n  \"rows\": 33,\n  \"fields\": [\n    {\n      \"column\": \"topic\",\n      \"properties\": {\n        \"dtype\": \"number\",\n        \"std\": 0,\n        \"min\": 12,\n        \"max\": 12,\n        \"num_unique_values\": 1,\n        \"samples\": [\n          12\n        ],\n        \"semantic_type\": \"\",\n        \"description\": \"\"\n      }\n    },\n    {\n      \"column\": \"topic_keywords\",\n      \"properties\": {\n        \"dtype\": \"category\",\n        \"num_unique_values\": 1,\n        \"samples\": [\n          \"licenses,license,license.\"\n        ],\n        \"semantic_type\": \"\",\n        \"description\": \"\"\n      }\n    },\n    {\n      \"column\": \"sentiment\",\n      \"properties\": {\n        \"dtype\": \"number\",\n        \"std\": 0.6528268203674049,\n        \"min\": -0.999796450138092,\n        \"max\": 0.9994184970855713,\n        \"num_unique_values\": 33,\n        \"samples\": [\n          -0.9666184782981873\n        ],\n        \"semantic_type\": \"\",\n        \"description\": \"\"\n      }\n    }\n  ]\n}"
            }
          },
          "metadata": {},
          "execution_count": 66
        }
      ]
    },
    {
      "cell_type": "markdown",
      "source": [
        "The sentiment results are quite frankly, weird. Was hoping to average the sentiment scores for topic clusters but I'm not sure I trust the outputs here.  In that case, can use the ROBERTA model results for each result"
      ],
      "metadata": {
        "id": "mS1lWvWJLqtz"
      }
    },
    {
      "cell_type": "code",
      "source": [
        "# topic_model.topics_keywords"
      ],
      "metadata": {
        "colab": {
          "base_uri": "https://localhost:8080/",
          "height": 148
        },
        "id": "GWTht9TSLYVW",
        "outputId": "570de8c6-f7b8-4aa1-81f6-04e05d3547c1"
      },
      "execution_count": null,
      "outputs": [
        {
          "output_type": "error",
          "ename": "AttributeError",
          "evalue": "'ReviewsTopicModel' object has no attribute 'topics_keywords'",
          "traceback": [
            "\u001b[0;31m---------------------------------------------------------------------------\u001b[0m",
            "\u001b[0;31mAttributeError\u001b[0m                            Traceback (most recent call last)",
            "\u001b[0;32m<ipython-input-60-8ad8209637b3>\u001b[0m in \u001b[0;36m<cell line: 1>\u001b[0;34m()\u001b[0m\n\u001b[0;32m----> 1\u001b[0;31m \u001b[0mtopic_model\u001b[0m\u001b[0;34m.\u001b[0m\u001b[0mtopics_keywords\u001b[0m\u001b[0;34m\u001b[0m\u001b[0;34m\u001b[0m\u001b[0m\n\u001b[0m",
            "\u001b[0;31mAttributeError\u001b[0m: 'ReviewsTopicModel' object has no attribute 'topics_keywords'"
          ]
        }
      ]
    },
    {
      "cell_type": "code",
      "source": [
        "df_topics = topic_model.topics_df"
      ],
      "metadata": {
        "id": "2osRviknsW4E"
      },
      "execution_count": null,
      "outputs": []
    },
    {
      "cell_type": "markdown",
      "source": [
        "EXPORT THE DF_TOPICS DATAFRAME.  ISSUE W/ SUGGESTIONS_DF NOT INCLUDING ALL 326 ROWS OF COMMENTS...NOT SURE WHY.  \n",
        "Work around: export the df_topics along w/ suggestions_df (including only rows w/ OPEN ENDED SUGGESTIONS not null so it matches)"
      ],
      "metadata": {
        "id": "j11bqRdafUWd"
      }
    },
    {
      "cell_type": "code",
      "source": [
        "# export the df_topics\n",
        "df_topics.to_excel('/content/drive/MyDrive/Colab Notebooks/NLP_projects/df_topics_16_topics.xlsx')"
      ],
      "metadata": {
        "id": "HoIT85DAe-U8"
      },
      "execution_count": null,
      "outputs": []
    },
    {
      "cell_type": "code",
      "source": [
        "# export a dataframe that only contains the rows w/ open ended suggestions NOT NULL\n",
        "open_ended_df = df\n",
        "open_ended_df.dropna(subset=[\"OPEN ENDED SUGGESTIONS\"], inplace=True)\n",
        "open_ended_df.shape"
      ],
      "metadata": {
        "id": "DCrUPi5LfkjN"
      },
      "execution_count": null,
      "outputs": []
    },
    {
      "cell_type": "code",
      "source": [
        "# EXPORT open_ended_df\n",
        "open_ended_df.to_excel('/content/drive/MyDrive/Colab Notebooks/NLP_projects/open_ended_df.xlsx')"
      ],
      "metadata": {
        "id": "yjm19vXnfzWh"
      },
      "execution_count": null,
      "outputs": []
    },
    {
      "cell_type": "code",
      "source": [
        "# suggestions_df.head(5)"
      ],
      "metadata": {
        "id": "I7dqOxdDsowV"
      },
      "execution_count": null,
      "outputs": []
    },
    {
      "cell_type": "code",
      "source": [
        "df_topics"
      ],
      "metadata": {
        "id": "cuTau3BNslR0"
      },
      "execution_count": null,
      "outputs": []
    },
    {
      "cell_type": "code",
      "source": [
        "# reset index\n",
        "df_topics = df_topics.reset_index()\n",
        "df_topics = df_topics.rename(columns={\"index\": 'comment'})\n",
        "df_topics"
      ],
      "metadata": {
        "id": "-zbmL7D4DRq2"
      },
      "execution_count": null,
      "outputs": []
    },
    {
      "cell_type": "markdown",
      "source": [
        "SAVING CURRENT TOPICS_DF REAL QUICK BEFORE STEPPING OUT, ASDFKALS;DJFLA;SKDJF UGHHH"
      ],
      "metadata": {
        "id": "bhEAzpgsMeew"
      }
    },
    {
      "cell_type": "code",
      "source": [
        "# df_topics.to_excel('/content/drive/MyDrive/Colab Notebooks/NLP_projects/28_topics_customer_satisfaction_export.xlsx')"
      ],
      "metadata": {
        "id": "Q2x1MbXvMi01"
      },
      "execution_count": null,
      "outputs": []
    },
    {
      "cell_type": "markdown",
      "source": [
        "create copy of original dataframe that doesn't include NaNs"
      ],
      "metadata": {
        "id": "asAXL8rvGNwM"
      }
    },
    {
      "cell_type": "code",
      "source": [
        "suggestions_df = df\n",
        "suggestions_df.dropna(subset=[\"OPEN ENDED SUGGESTIONS\"], inplace=True)\n",
        "suggestions_df.shape"
      ],
      "metadata": {
        "id": "m21hb3p0E25A"
      },
      "execution_count": null,
      "outputs": []
    },
    {
      "cell_type": "code",
      "source": [],
      "metadata": {
        "id": "61gEUhlkfhcA"
      },
      "execution_count": null,
      "outputs": []
    },
    {
      "cell_type": "code",
      "source": [
        "df_topics.shape"
      ],
      "metadata": {
        "id": "rvQr46kJLmT6"
      },
      "execution_count": null,
      "outputs": []
    },
    {
      "cell_type": "markdown",
      "source": [
        "add the three columns from DF_TOPICS to SUGGESTIONS_DF (rows match, already checked)"
      ],
      "metadata": {
        "id": "aiOHvgkhGVoh"
      }
    },
    {
      "cell_type": "code",
      "source": [
        "suggestions_df['user_comment'] = df_topics['comment']\n",
        "suggestions_df['topic_number'] = df_topics['topic']\n",
        "suggestions_df['keywords'] = df_topics['topic_keywords']"
      ],
      "metadata": {
        "id": "dJebr0-ZFVa6"
      },
      "execution_count": null,
      "outputs": []
    },
    {
      "cell_type": "code",
      "source": [
        "suggestions_df.head(3)"
      ],
      "metadata": {
        "id": "j3z9AGPuFodN"
      },
      "execution_count": null,
      "outputs": []
    },
    {
      "cell_type": "code",
      "source": [
        "suggestions_df"
      ],
      "metadata": {
        "id": "y8nVl9QVeaJc"
      },
      "execution_count": null,
      "outputs": []
    },
    {
      "cell_type": "code",
      "source": [
        "suggestions_df.to_excel('/content/drive/MyDrive/Colab Notebooks/NLP_projects/suggestions_df_single_keyword.xlsx')"
      ],
      "metadata": {
        "id": "IYfLiAfBbitK"
      },
      "execution_count": null,
      "outputs": []
    },
    {
      "cell_type": "code",
      "source": [
        "# suggestions_df['topic_number'].value_counts()"
      ],
      "metadata": {
        "collapsed": true,
        "id": "TINAW9DRJOmm"
      },
      "execution_count": null,
      "outputs": []
    },
    {
      "cell_type": "code",
      "source": [
        "# join_df = suggestions_df.merge(df, on = 'USER_ID', how='left')\n",
        "# join_df\n",
        "\n",
        "df['user_comment'] = ''\n",
        "df['topic_number'] = np.nan\n",
        "df['keywords'] = ''\n",
        "\n",
        "df.head(1)"
      ],
      "metadata": {
        "id": "sXoHTAAoFw8f"
      },
      "execution_count": null,
      "outputs": []
    },
    {
      "cell_type": "code",
      "source": [
        "# df_empty = df.loc[df['OPEN ENDED SUGGESTIONS'].isnull()]"
      ],
      "metadata": {
        "id": "8FTmt4wXJlFI"
      },
      "execution_count": null,
      "outputs": []
    },
    {
      "cell_type": "code",
      "source": [
        "# df_concat = pd.concat([df_empty, suggestions_df])\n",
        "# df_concat"
      ],
      "metadata": {
        "id": "9qrogTsuIrug"
      },
      "execution_count": null,
      "outputs": []
    },
    {
      "cell_type": "code",
      "source": [
        "suggestions_df"
      ],
      "metadata": {
        "id": "mcs1XdaXLLG-"
      },
      "execution_count": null,
      "outputs": []
    },
    {
      "cell_type": "code",
      "source": [
        "df_concat.topic_number.value_counts()"
      ],
      "metadata": {
        "id": "UC0DaxMHKC3a"
      },
      "execution_count": null,
      "outputs": []
    },
    {
      "cell_type": "markdown",
      "source": [
        "SAVE THE NEW DATAFRAME"
      ],
      "metadata": {
        "id": "wvKc8bISGibK"
      }
    },
    {
      "cell_type": "code",
      "source": [
        "# topic_model.topics_df[\"topic\"].value_counts()"
      ],
      "metadata": {
        "id": "FJHxtzltJ3jC"
      },
      "execution_count": null,
      "outputs": []
    },
    {
      "cell_type": "markdown",
      "source": [
        "SCRAP BELOW!"
      ],
      "metadata": {
        "id": "JkUeQi_jlI-S"
      }
    },
    {
      "cell_type": "markdown",
      "source": [
        "For whatever reason, the bottom two classes were throwing errors, keeping them here in case I need them later"
      ],
      "metadata": {
        "id": "cK0llvIBoZKW"
      }
    },
    {
      "cell_type": "code",
      "source": [
        "# class ReviewsTopicModel:\n",
        "# ### TESTING OUT SOME CHANGES TO THE STRING_MAP IN THIS CELL, BE AWARE OF THAT!!!!!!!!!!\n",
        "#     STOPWORDS = stopwords.words('english') # stopwords from ntlk,  using in the method for topic centroid naming\n",
        "\n",
        "#     EMBEDDING_DIM = 512 # USE encoder\n",
        "\n",
        "#     # Constructor\n",
        "#     def __init__(self, reviews):\n",
        "#         self.X = self.clean(reviews)\n",
        "\n",
        "#     # Clean text method\n",
        "#     def clean(self, reviews):\n",
        "#         # Words to replace based on cluster testing\n",
        "#         string_map = {'\\r': '', '\\n': '', '/': ' ', \"'\": \"\", '\"': '', \"parks\" : 'park', \"parkland\" : \"park\",\n",
        "#                       'campsites': 'campsite', 'reservations' : 'reservation', 'nope': 'none'}\n",
        "#         reviews_cleaned = reviews[:]\n",
        "#         for i in range(len(reviews_cleaned)):\n",
        "#             for s in string_map:\n",
        "#                 reviews_cleaned[i] = reviews_cleaned[i].replace(s, string_map[s]).lower()\n",
        "#         # Transform the reviews into embeddings dataframe\n",
        "#         X = embed(reviews_cleaned)\n",
        "#         X = pd.DataFrame(X)\n",
        "#         X.index = reviews_cleaned\n",
        "#         return X\n",
        "\n",
        "#     # Method to determine number of topics (a.k.a kmeans cluster number)\n",
        "#     def elbow_plot(self):\n",
        "#         cluster_sizes = list(range(1, 81)) # a high end range value paints a clear picture\n",
        "#         cluster_scores = []\n",
        "#         for n in cluster_sizes:\n",
        "#             kmeans = KMeans(n_clusters=n)\n",
        "#             kmeans.fit(self.X)\n",
        "#             cluster_scores.append(kmeans.inertia_)\n",
        "#         plt.figure()\n",
        "#         plt.plot(cluster_sizes, cluster_scores)\n",
        "#         plt.show()\n",
        "\n",
        "#     # Method to extract topics from text data\n",
        "#     def create_topics(self, num_topics):\n",
        "#         # Cluster the reviews\n",
        "#         kmeans = KMeans(n_clusters=num_topics)\n",
        "#         kmeans.fit(self.X)\n",
        "\n",
        "#         # Create the final topics dataframe\n",
        "#         topics_df = self.X.copy()\n",
        "#         topics_df['topic'] = kmeans.labels_.copy()\n",
        "#         topics_df['topic'] = topics_df['topic'].astype(int)\n",
        "\n",
        "#         # Create summary keywords per topic\n",
        "#         topic_keywords = {}\n",
        "#         for topic in topics_df['topic'].unique():\n",
        "#             topic_reviews = topics_df.query(\"topic == {}\".format(topic)).index.tolist()\n",
        "#             topic_centroid = kmeans.cluster_centers_[topic] # cluster center\n",
        "#             topic_keywords[topic] = self.get_closest_words(topic_reviews, topic_centroid)\n",
        "#         topics_df['topic_keywords'] = topics_df['topic'].map(topic_keywords)\n",
        "\n",
        "#         # Score the sentiment of each review\n",
        "#         topics_df['sentiment'] = [sentiment(r) for r in topics_df.index.values.tolist()]\n",
        "\n",
        "#         # Final result\n",
        "#         self.topics_keywords = topic_keywords\n",
        "#         self.topics_df = topics_df.copy()[['topic', 'topic_keywords', 'sentiment']]\n",
        "\n",
        "\n",
        "#     def get_closest_words(self, reviews, centroid):\n",
        "#         word_distances = {}\n",
        "#         for r in reviews:\n",
        "#             review_words = [w for w in word_tokenize(r) if(w not in self.STOPWORDS)]\n",
        "#             for w in review_words:\n",
        "#                 word_embedding = embed([w]) # return 512 dimensional vector for the word 'w'\n",
        "#                 # how similar is the word embedding to the topic's centroid (avg of the cluster sample's embeddings)\n",
        "#                 word_distances[w] = self.cosine_similarity(word_embedding, centroid) # 1 it means match, closer to 0 means different\n",
        "#         # done collecting the distances of the words to the topic's center\n",
        "#         top_5_keywords = sorted([(word_distances[w], w) for w in word_distances])[-1:] # first elements will have smaller distances based on cosine similarity | TOP WORDS CLOSER TO 1 (W/ -1:)\n",
        "#         return \",\".join([x[1] for x in top_5_keywords])\n",
        "\n",
        "#     def cosine_similarity(self, x, y): # arbitrary vectors\n",
        "#         # x,y are both the appropriate dimension\n",
        "#         x = x.reshape(self.EMBEDDING_DIM,)\n",
        "#         y = y.reshape(self.EMBEDDING_DIM,)\n",
        "#         # calculate cosine similarity\n",
        "#         dotproduct = x.dot(y)\n",
        "#         x_mag = x.dot(x)**0.5\n",
        "#         y_mag = y.dot(y)**0.5\n",
        "#         # returns closer to 1 if x and y are similar, closer to 0 if they are different\n",
        "#         return dotproduct/(x_mag * y_mag)"
      ],
      "metadata": {
        "id": "x3Blpn8z_utU"
      },
      "execution_count": null,
      "outputs": []
    },
    {
      "cell_type": "code",
      "source": [
        "# class ReviewsTopicModel:\n",
        "# ### TESTING OUT SOME CHANGES TO THE STRING_MAP IN THIS CELL, BE AWARE OF THAT!!!!!!!!!!\n",
        "#     STOPWORDS = stopwords.words('english') # stopwords from nltk,  using in the method for topic centroid naming\n",
        "\n",
        "#     EMBEDDING_DIM = 512 # USE encoder\n",
        "\n",
        "#     # Constructor\n",
        "#     def __init__(self, reviews):\n",
        "#         self.X = self.clean(reviews)\n",
        "\n",
        "#     # Clean text method\n",
        "#     def clean(self, reviews):\n",
        "#         # Words to replace based on cluster testing\n",
        "#         string_map = {'\\r': '', '\\n': '', '/': ' ', \"'\": \"\", '\"': '', \"parks\" : 'park', \"parkland\" : \"park\",\n",
        "#                       'campsites': 'campsite', 'reservations' : 'reservation', 'nope': 'none'}\n",
        "#         reviews_cleaned = reviews[:]\n",
        "#         for i in range(len(reviews_cleaned)):\n",
        "#             for s in string_map:\n",
        "#                 reviews_cleaned[i] = reviews_cleaned[i].replace(s, string_map[s]).lower()\n",
        "#         # Transform the reviews into embeddings dataframe\n",
        "#         X = embed(reviews_cleaned)\n",
        "#         X = pd.DataFrame(X)\n",
        "#         X.index = reviews_cleaned\n",
        "#         return X\n",
        "\n",
        "#     # Method to determine number of topics (a.k.a kmeans cluster number)\n",
        "#     def elbow_plot(self):\n",
        "#         cluster_sizes = list(range(1, 81)) # a high end range value paints a clear picture\n",
        "#         cluster_scores = []\n",
        "#         for n in cluster_sizes:\n",
        "#             kmeans = KMeans(n_clusters=n)\n",
        "#             kmeans.fit(self.X)\n",
        "#             cluster_scores.append(kmeans.inertia_)\n",
        "#         plt.figure()\n",
        "#         plt.plot(cluster_sizes, cluster_scores)\n",
        "#         plt.show()\n",
        "\n",
        "#     # Method to extract topics from text data\n",
        "#     def create_topics(self, num_topics):\n",
        "#         # Cluster the reviews\n",
        "#         kmeans = KMeans(n_clusters=num_topics) # cluster values are the number of topics\n",
        "#         kmeans.fit(self.X)\n",
        "\n",
        "#     def get_closest_words(self, reviews, centroid): # tie the closest reviews to their centroid\n",
        "#         word_distances = {}\n",
        "#         for r in reviews:\n",
        "#             review_words = [w for w in word_tokenize(r) if(w not in self.STOPWORDS)]\n",
        "#             for w in review_words:\n",
        "#                 word_embedding = embed([w]) # return 512 dimensional vector for the word, AKA 'w'\n",
        "#                 # how similar is the word embedding to the topic's centroid (avg of the cluster sample's embeddings)\n",
        "#                 word_distances[w] = self.cosine_similarity(word_embedding, centroid) # 1 it means match, closer to 0 means different\n",
        "#         # done collecting the distances of the words to the topic's center\n",
        "#         top_5_keywords = sorted([(word_distances[w], w) for w in word_distances])[-1:] # first elements will have smaller distances based on cosine similarity | TOP WORDS CLOSER TO 1 (W/ -1:)\n",
        "#         return \",\".join([x[1] for x in top_5_keywords])\n",
        "\n",
        "#     def cosine_similarity(self, x, y): # x and y are arbitrary vectors\n",
        "#         # x,y are both the appropriate dimension\n",
        "#         x = x.reshape(self.EMBEDDING_DIM,)\n",
        "#         y = y.reshape(self.EMBEDDING_DIM,)\n",
        "#         # calculate cosine similarity\n",
        "#         dotproduct = x.dot(y)\n",
        "#         x_mag = x.dot(x)**0.5\n",
        "#         y_mag = y.dot(y)**0.5\n",
        "#         # returns closer to 1 if x and y are similar, closer to 0 if they are different\n",
        "#         return dotproduct/(x_mag * y_mag)\n",
        "\n",
        "# # ////////////////////////////////////////////////////////////////////////////////////////\n",
        "\n",
        "#         # Create the final topics dataframe\n",
        "#         topics_df = self.X.copy()\n",
        "#         topics_df['topic'] = kmeans.labels_.copy()\n",
        "#         topics_df['topic'] = topics_df['topic'].astype(int)\n",
        "\n",
        "#         # Create summary keywords per topic\n",
        "#         topic_keywords = {}\n",
        "#         for topic in topics_df['topic'].unique():\n",
        "#             topic_reviews = topics_df.query(\"topic == {}\".format(topic)).index.tolist()\n",
        "#             topic_centroid = kmeans.cluster_centers_[topic] # cluster center\n",
        "#             topic_keywords[topic] = self.get_closest_words(topic_reviews, topic_centroid)\n",
        "#         topics_df['topic_keywords'] = topics_df['topic'].map(topic_keywords)\n",
        "\n",
        "#         # Score the sentiment of each review\n",
        "#         topics_df['sentiment'] = [sentiment(r) for r in topics_df.index.values.tolist()]\n",
        "\n",
        "#         # Final result\n",
        "#         self.topics_keywords = topic_keywords\n",
        "#         self.topics_df = topics_df.copy()[['topic', 'topic_keywords', 'sentiment']]"
      ],
      "metadata": {
        "id": "9nJDXEIE9OXz"
      },
      "execution_count": null,
      "outputs": []
    }
  ]
}